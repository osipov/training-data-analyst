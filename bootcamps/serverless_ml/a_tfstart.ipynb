{
  "nbformat": 4,
  "nbformat_minor": 0,
  "metadata": {
    "colab": {
      "name": "a_tfstart.ipynb",
      "version": "0.3.2",
      "provenance": []
    },
    "kernelspec": {
      "display_name": "Python 2",
      "language": "python",
      "name": "python2"
    }
  },
  "cells": [
    {
      "metadata": {
        "deletable": true,
        "editable": true,
        "id": "AZAShXo4Scjb",
        "colab_type": "text"
      },
      "cell_type": "markdown",
      "source": [
        "<h1> Getting started with TensorFlow </h1>\n",
        "\n",
        "In this notebook, you play around with the TensorFlow Python API."
      ]
    },
    {
      "metadata": {
        "deletable": true,
        "editable": true,
        "id": "Sc05Pb-SScje",
        "colab_type": "code",
        "colab": {}
      },
      "cell_type": "code",
      "source": [
        "import tensorflow as tf\n",
        "import numpy as np\n",
        "\n",
        "print tf.__version__"
      ],
      "execution_count": 0,
      "outputs": []
    },
    {
      "metadata": {
        "deletable": true,
        "editable": true,
        "id": "VvB5cFJ0Scji",
        "colab_type": "text"
      },
      "cell_type": "markdown",
      "source": [
        "<h2> Adding two tensors </h2>\n",
        "\n",
        "First, let's try doing this using numpy, the Python numeric package. numpy code is immediately evaluated."
      ]
    },
    {
      "metadata": {
        "deletable": true,
        "editable": true,
        "id": "AZGERDlQScjj",
        "colab_type": "code",
        "colab": {}
      },
      "cell_type": "code",
      "source": [
        "a = np.array([5, 3, 8])\n",
        "b = np.array([3, -1, 2])\n",
        "c = np.add(a, b)\n",
        "print c"
      ],
      "execution_count": 0,
      "outputs": []
    },
    {
      "metadata": {
        "deletable": true,
        "editable": true,
        "id": "8OPI3-zPScjp",
        "colab_type": "text"
      },
      "cell_type": "markdown",
      "source": [
        "The equivalent code in TensorFlow consists of two steps:\n",
        "<p>\n",
        "<h3> Step 1: Build the graph </h3>"
      ]
    },
    {
      "metadata": {
        "deletable": true,
        "editable": true,
        "id": "1V5O_rjRScjq",
        "colab_type": "code",
        "colab": {}
      },
      "cell_type": "code",
      "source": [
        "a = tf.constant([5, 3, 8])\n",
        "b = tf.constant([3, -1, 2])\n",
        "c = tf.add(a, b)\n",
        "print c"
      ],
      "execution_count": 0,
      "outputs": []
    },
    {
      "metadata": {
        "deletable": true,
        "editable": true,
        "id": "fGMNRQmjScjt",
        "colab_type": "text"
      },
      "cell_type": "markdown",
      "source": [
        "c is an Op (\"Add\") that returns a tensor of shape (3,) and holds int32. The shape is inferred from the computation graph.\n",
        "\n",
        "Try the following in the cell above:\n",
        "<ol>\n",
        "<li> Change the 5 to 5.0, and similarly the other five numbers. What happens when you run this cell? </li>\n",
        "<li> Add an extra number to a, but leave b at the original (3,) shape. What happens when you run this cell? </li>\n",
        "<li> Change the code back to a version that works </li>\n",
        "</ol>\n",
        "\n",
        "<p/>\n",
        "<h3> Step 2: Run the graph"
      ]
    },
    {
      "metadata": {
        "deletable": true,
        "editable": true,
        "id": "zf9DADBxScju",
        "colab_type": "code",
        "colab": {}
      },
      "cell_type": "code",
      "source": [
        "with tf.Session() as sess:\n",
        "  result = sess.run(c)\n",
        "  print result"
      ],
      "execution_count": 0,
      "outputs": []
    },
    {
      "metadata": {
        "deletable": true,
        "editable": true,
        "id": "F_AyJGHdScjx",
        "colab_type": "text"
      },
      "cell_type": "markdown",
      "source": [
        "<h2> Using a feed_dict </h2>\n",
        "\n",
        "Same graph, but without hardcoding inputs at build stage"
      ]
    },
    {
      "metadata": {
        "deletable": true,
        "editable": true,
        "id": "UUZ-HYSdScjz",
        "colab_type": "code",
        "colab": {}
      },
      "cell_type": "code",
      "source": [
        "a = tf.placeholder(dtype=tf.int32, shape=(None,))  # batchsize x scalar\n",
        "b = tf.placeholder(dtype=tf.int32, shape=(None,))\n",
        "c = tf.add(a, b)\n",
        "with tf.Session() as sess:\n",
        "  result = sess.run(c, feed_dict={\n",
        "      a: [3, 4, 5],\n",
        "      b: [-1, 2, 3]\n",
        "    })\n",
        "  print result"
      ],
      "execution_count": 0,
      "outputs": []
    },
    {
      "metadata": {
        "deletable": true,
        "editable": true,
        "id": "gDkiGj9uScj2",
        "colab_type": "text"
      },
      "cell_type": "markdown",
      "source": [
        "<h2> Heron's Formula in TensorFlow </h2>\n",
        "\n",
        "The area of triangle whose three sides are $(a, b, c)$ is $\\sqrt{s(s-a)(s-b)(s-c)}$ where $s=\\frac{a+b+c}{2}$ \n",
        "\n",
        "Look up the available operations at https://www.tensorflow.org/api_docs/python/tf"
      ]
    },
    {
      "metadata": {
        "deletable": true,
        "editable": true,
        "id": "NBX3j8ESScj3",
        "colab_type": "code",
        "colab": {}
      },
      "cell_type": "code",
      "source": [
        "def compute_area(sides):\n",
        "  # slice the input to get the sides\n",
        "  a = sides[:,0]  # 5.0, 2.3\n",
        "  b = sides[:,1]  # 3.0, 4.1\n",
        "  c = sides[:,2]  # 7.1, 4.8\n",
        "  \n",
        "  # Heron's formula\n",
        "  s = (a + b + c) * 0.5   # (a + b) is a short-cut to tf.add(a, b)\n",
        "  areasq = s * (s - a) * (s - b) * (s - c) # (a * b) is a short-cut to tf.multiply(a, b), not tf.matmul(a, b)\n",
        "  return tf.sqrt(areasq)\n",
        "\n",
        "with tf.Session() as sess:\n",
        "  # pass in two triangles\n",
        "  area = compute_area(tf.constant([\n",
        "      [5.0, 3.0, 7.1],\n",
        "      [2.3, 4.1, 4.8]\n",
        "    ]))\n",
        "  result = sess.run(area)\n",
        "  print result"
      ],
      "execution_count": 0,
      "outputs": []
    },
    {
      "metadata": {
        "deletable": true,
        "editable": true,
        "id": "C6hoHTwtScj-",
        "colab_type": "text"
      },
      "cell_type": "markdown",
      "source": [
        "<h2> Placeholder and feed_dict </h2>\n",
        "\n",
        "More common is to define the input to a program as a placeholder and then to feed in the inputs. The difference between the code below and the code above is whether the \"area\" graph is coded up with the input values or whether the \"area\" graph is coded up with a placeholder through which inputs will be passed in at run-time."
      ]
    },
    {
      "metadata": {
        "deletable": true,
        "editable": true,
        "id": "P_EK5-tWScj_",
        "colab_type": "code",
        "colab": {}
      },
      "cell_type": "code",
      "source": [
        "with tf.Session() as sess:\n",
        "  sides = tf.placeholder(tf.float32, shape=(None, 3))  # batchsize number of triangles, 3 sides\n",
        "  area = compute_area(sides)\n",
        "  result = sess.run(area, feed_dict = {\n",
        "      sides: [\n",
        "        [5.0, 3.0, 7.1],\n",
        "        [2.3, 4.1, 4.8]\n",
        "      ]\n",
        "    })\n",
        "  print result"
      ],
      "execution_count": 0,
      "outputs": []
    },
    {
      "metadata": {
        "deletable": true,
        "editable": true,
        "id": "3eaDVb3NSckB",
        "colab_type": "text"
      },
      "cell_type": "markdown",
      "source": [
        "## tf.eager\n",
        "\n",
        "tf.eager allows you to avoid the build-then-run stages. However, most production code will follow the lazy evaluation paradigm because the lazy evaluation paradigm is what allows for multi-device support and distribution. \n",
        "<p>\n",
        "One thing you could do is to develop using tf.eager and then comment out the eager execution and add in the session management code.\n",
        "\n",
        "<b> To run this block, you must first reset the notebook using \"Runtime > Reset all runtimes\"  on the menu bar, then run the next cell only. </b>"
      ]
    },
    {
      "metadata": {
        "deletable": true,
        "editable": true,
        "id": "-DouAOa0SckC",
        "colab_type": "code",
        "colab": {}
      },
      "cell_type": "code",
      "source": [
        "import tensorflow as tf\n",
        "from tensorflow.contrib.eager.python import tfe\n",
        "\n",
        "tfe.enable_eager_execution()\n",
        "\n",
        "def compute_area(sides):\n",
        "  # slice the input to get the sides\n",
        "  a = sides[:,0]  # 5.0, 2.3\n",
        "  b = sides[:,1]  # 3.0, 4.1\n",
        "  c = sides[:,2]  # 7.1, 4.8\n",
        "  \n",
        "  # Heron's formula\n",
        "  s = (a + b + c) * 0.5   # (a + b) is a short-cut to tf.add(a, b)\n",
        "  areasq = s * (s - a) * (s - b) * (s - c) # (a * b) is a short-cut to tf.multiply(a, b), not tf.matmul(a, b)\n",
        "  return tf.sqrt(areasq)\n",
        "\n",
        "area = compute_area(tf.constant([\n",
        "      [5.0, 3.0, 7.1],\n",
        "      [2.3, 4.1, 4.8]\n",
        "    ]))\n",
        "\n",
        "\n",
        "print area"
      ],
      "execution_count": 0,
      "outputs": []
    },
    {
      "metadata": {
        "deletable": true,
        "editable": true,
        "id": "5ySUfrvwSckF",
        "colab_type": "text"
      },
      "cell_type": "markdown",
      "source": [
        "Copyright 2019 Counter Factual .AI LLC. Licensed under the Apache License, Version 2.0 (the \"License\"); you may not use this file except in compliance with the License. You may obtain a copy of the License at http://www.apache.org/licenses/LICENSE-2.0 Unless required by applicable law or agreed to in writing, software distributed under the License is distributed on an \"AS IS\" BASIS, WITHOUT WARRANTIES OR CONDITIONS OF ANY KIND, either express or implied. See the License for the specific language governing permissions and limitations under the License"
      ]
    }
  ]
}