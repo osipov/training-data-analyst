{
  "nbformat": 4,
  "nbformat_minor": 0,
  "metadata": {
    "colab": {
      "name": "feateng.ipynb",
      "version": "0.3.2",
      "provenance": [],
      "collapsed_sections": []
    },
    "kernelspec": {
      "display_name": "Python 2",
      "language": "python",
      "name": "python2"
    }
  },
  "cells": [
    {
      "metadata": {
        "id": "GAL-UUWK2rSL",
        "colab_type": "text"
      },
      "cell_type": "markdown",
      "source": [
        "<h1> Feature Engineering </h1>\n",
        "\n",
        "In this notebook, you will learn how to incorporate feature engineering into your pipeline.\n",
        "<ul>\n",
        "<li> Working with feature columns </li>\n",
        "<li> Adding feature crosses in TensorFlow </li>\n",
        "<li> Reading data from BigQuery </li>\n",
        "<li> Creating datasets using Dataflow </li>\n",
        "<li> Using a wide-and-deep model </li>\n",
        "</ul>"
      ]
    },
    {
      "metadata": {
        "id": "c3FTkWru2x29",
        "colab_type": "code",
        "colab": {}
      },
      "cell_type": "code",
      "source": [
        "!pip install apache-beam[gcp] google-apitools"
      ],
      "execution_count": 0,
      "outputs": []
    },
    {
      "metadata": {
        "id": "NIBr7yL32rSP",
        "colab_type": "code",
        "colab": {}
      },
      "cell_type": "code",
      "source": [
        "import tensorflow as tf\n",
        "import apache_beam as beam\n",
        "import shutil\n",
        "print(tf.__version__)"
      ],
      "execution_count": 0,
      "outputs": []
    },
    {
      "metadata": {
        "id": "U8ihmFF42w9H",
        "colab_type": "code",
        "colab": {},
        "cellView": "form"
      },
      "cell_type": "code",
      "source": [
        "#@markdown Copy-paste your GCP Project ID in the following field:\n",
        "\n",
        "PROJECT = \"\" #@param {type: \"string\"}\n",
        "\n",
        "\n",
        "#@markdown When running this cell you will need to **uncheck \"Reset all runtimes before running\"** as shown on the following screenshot:\n",
        "#@markdown ![](https://i.imgur.com/9dgw0h0.png)\n",
        "#@markdown Next, use Shift-Enter to run this cell and to complete authentication.\n",
        "\n",
        "try:  \n",
        "  from google.colab import auth\n",
        "  auth.authenticate_user()  \n",
        "  print(\"AUTHENTICATED\")\n",
        "except:\n",
        "  print(\"FAILED to authenticate\")\n",
        "  \n",
        "REGION = \"us-central1\"   \n",
        "BUCKET = PROJECT\n",
        "\n",
        "# Copy taxi-*.csv files from github if they are missing from the runtime.\n",
        "!wget -nc --quiet https://github.com/osipov/training-data-analyst/raw/master/bootcamps/serverless_ml/taxi-11k-datasets.zip  \n",
        "!unzip -q -n taxi-11k-datasets.zip  "
      ],
      "execution_count": 0,
      "outputs": []
    },
    {
      "metadata": {
        "id": "u2hh1tIB2rSU",
        "colab_type": "text"
      },
      "cell_type": "markdown",
      "source": [
        "<h2> 1. Environment variables for project and bucket </h2>\n",
        "\n",
        "<li> Your project id is the *unique* string that identifies your project (not the project name). You can find this from the GCP Console dashboard's Home page.  My dashboard reads:  <b>Project ID:</b> cloud-training-demos </li>\n",
        "<li> Cloud training often involves saving and restoring model files. Therefore, we should <b>create a single-region bucket</b>. If you don't have a bucket already, I suggest that you create one from the GCP console (because it will dynamically check whether the bucket name you want is available) </li>\n",
        "</ol>\n",
        "<b>Change the cell below</b> to reflect your Project ID and bucket name.\n"
      ]
    },
    {
      "metadata": {
        "id": "mAkP-6w32rSY",
        "colab_type": "code",
        "colab": {}
      },
      "cell_type": "code",
      "source": [
        "# for bash\n",
        "import os\n",
        "os.environ['PROJECT'] = PROJECT\n",
        "os.environ['BUCKET'] = BUCKET\n",
        "os.environ['REGION'] = REGION\n",
        "os.environ['TF_VERSION'] = '1.12' "
      ],
      "execution_count": 0,
      "outputs": []
    },
    {
      "metadata": {
        "id": "Vk4PlufJ2rSa",
        "colab_type": "code",
        "colab": {}
      },
      "cell_type": "code",
      "source": [
        "%%bash\n",
        "gcloud config set project $PROJECT\n",
        "gcloud config set compute/region $REGION"
      ],
      "execution_count": 0,
      "outputs": []
    },
    {
      "metadata": {
        "id": "q0ajbcsj2rSd",
        "colab_type": "text"
      },
      "cell_type": "markdown",
      "source": [
        "<h2> 2. Specifying query to pull the data </h2>\n",
        "\n",
        "Let's pull out a few extra columns from the timestamp."
      ]
    },
    {
      "metadata": {
        "id": "jStP19DG2rSe",
        "colab_type": "code",
        "colab": {}
      },
      "cell_type": "code",
      "source": [
        "def create_query(phase, EVERY_N):\n",
        "  \"\"\"\n",
        "  phase: 1=train 2=valid\n",
        "  \"\"\"\n",
        "  base_query = \"\"\"\n",
        "    SELECT\n",
        "      (tolls_amount + fare_amount) AS fare_amount,\n",
        "      \n",
        "      CONCAT( STRING(pickup_datetime), \n",
        "              CAST(pickup_longitude AS STRING), \n",
        "              CAST(pickup_latitude AS STRING),\n",
        "              CAST(dropoff_latitude AS STRING), \n",
        "              CAST(dropoff_longitude AS STRING)) AS key,\n",
        "              \n",
        "      EXTRACT(DAYOFWEEK FROM pickup_datetime) AS dayofweek,\n",
        "      EXTRACT(HOUR FROM pickup_datetime) AS hourofday,\n",
        "      pickup_longitude AS pickuplon,\n",
        "      pickup_latitude AS pickuplat,\n",
        "      dropoff_longitude AS dropofflon,\n",
        "      dropoff_latitude AS dropofflat,\n",
        "      passenger_count*1.0 AS passengers\n",
        "    FROM\n",
        "      `nyc-tlc.yellow.trips`\n",
        "    WHERE\n",
        "      {}\n",
        "      AND trip_distance > 0\n",
        "      AND fare_amount >= 2.5\n",
        "      AND pickup_longitude > -78\n",
        "      AND pickup_longitude < -70\n",
        "      AND dropoff_longitude > -78\n",
        "      AND dropoff_longitude < -70\n",
        "      AND pickup_latitude > 37\n",
        "      AND pickup_latitude < 45\n",
        "      AND dropoff_latitude > 37\n",
        "      AND dropoff_latitude < 45\n",
        "      AND passenger_count > 0\n",
        "  \"\"\"\n",
        "  if EVERY_N == None:\n",
        "    if phase < 2:\n",
        "      # training\n",
        "      selector = \"MOD(ABS(FARM_FINGERPRINT(STRING(pickup_datetime))), 4) < 2\"\n",
        "    else:\n",
        "      selector = \"MOD(ABS(FARM_FINGERPRINT(STRING(pickup_datetime))), 4) = 2\"\n",
        "  else:\n",
        "      selector = \"MOD(ABS(FARM_FINGERPRINT(STRING(pickup_datetime))), %d) = %d\" % (EVERY_N, phase)\n",
        "    \n",
        "  query = base_query.format(selector)\n",
        "\n",
        "  return query\n",
        "\n",
        "sql = create_query(2, 100000)"
      ],
      "execution_count": 0,
      "outputs": []
    },
    {
      "metadata": {
        "id": "i1X6cJto2rSl",
        "colab_type": "text"
      },
      "cell_type": "markdown",
      "source": [
        "Try the query above in https://bigquery.cloud.google.com/table/nyc-tlc:yellow.trips if you want to see what it does (ADD LIMIT 10 to the query!)"
      ]
    },
    {
      "metadata": {
        "id": "z9b5z9b02rSn",
        "colab_type": "text"
      },
      "cell_type": "markdown",
      "source": [
        "<h2> 3. Preprocessing Dataflow job from BigQuery </h2>\n",
        "\n",
        "This code reads from BigQuery and saves the data as-is on Google Cloud Storage.  We can do additional preprocessing and cleanup inside Dataflow, but then we'll have to remember to repeat that prepreprocessing during inference. It is better to use tf.transform which will do this book-keeping for you, or to do preprocessing within your TensorFlow model. We will look at this in future notebooks. For now, we are simply moving data from BigQuery to CSV using Dataflow.\n",
        "\n",
        "While we could read from BQ directly from TensorFlow (See: https://www.tensorflow.org/api_docs/python/tf/contrib/cloud/BigQueryReader), it is quite convenient to export to CSV and do the training off CSV.  Let's use Dataflow to do this at scale.\n",
        "\n",
        "Because we are running this on the Cloud, you should go to the GCP Console (https://console.cloud.google.com/dataflow) to look at the status of the job. It will take several minutes for the preprocessing job to launch."
      ]
    },
    {
      "metadata": {
        "id": "k1EdYSQ-2rSo",
        "colab_type": "code",
        "colab": {}
      },
      "cell_type": "code",
      "source": [
        "%%bash\n",
        "gsutil -m rm -rf gs://$BUCKET/taxifare/ch4/taxi_preproc/"
      ],
      "execution_count": 0,
      "outputs": []
    },
    {
      "metadata": {
        "id": "-diHQ6p62rSs",
        "colab_type": "code",
        "colab": {}
      },
      "cell_type": "code",
      "source": [
        "import datetime\n",
        "\n",
        "####\n",
        "# Arguments:\n",
        "#   -rowdict: Dictionary. The beam bigquery reader returns a PCollection in\n",
        "#     which each row is represented as a python dictionary\n",
        "# Returns:\n",
        "#   -rowstring: a comma separated string representation of the record with dayofweek\n",
        "#     converted from int to string (e.g. 3 --> Tue)\n",
        "####\n",
        "def to_csv(rowdict):\n",
        "  days = ['null', 'Sun', 'Mon', 'Tue', 'Wed', 'Thu', 'Fri', 'Sat']\n",
        "  CSV_COLUMNS = 'fare_amount,dayofweek,hourofday,pickuplon,pickuplat,dropofflon,dropofflat,passengers,key'.split(',')\n",
        "  rowdict['dayofweek'] = days[rowdict['dayofweek']]\n",
        "  rowstring = ','.join([str(rowdict[k]) for k in CSV_COLUMNS])\n",
        "  return rowstring\n",
        "\n",
        "\n",
        "####\n",
        "# Arguments:\n",
        "#   -EVERY_N: Integer. Sample one out of every N rows from the full dataset.\n",
        "#     Larger values will yield smaller sample\n",
        "#   -RUNNER: 'DirectRunner' or 'DataflowRunner'. Specfy to run the pipeline\n",
        "#     locally or on Google Cloud respectively. \n",
        "# Side-effects:\n",
        "#   -Creates and executes dataflow pipeline. \n",
        "#     See https://beam.apache.org/documentation/programming-guide/#creating-a-pipeline\n",
        "####\n",
        "def preprocess(EVERY_N, RUNNER):\n",
        "  job_name = 'preprocess-taxifeatures' + '-' + datetime.datetime.now().strftime('%y%m%d-%H%M%S')\n",
        "  print 'Launching Dataflow job {} ... hang on'.format(job_name)\n",
        "  OUTPUT_DIR = 'gs://{0}/taxifare/ch4/taxi_preproc/'.format(BUCKET)\n",
        "\n",
        "  #dictionary of pipeline options\n",
        "  options = {\n",
        "    'staging_location': os.path.join(OUTPUT_DIR, 'tmp', 'staging'),\n",
        "    'temp_location': os.path.join(OUTPUT_DIR, 'tmp'),\n",
        "    'job_name': 'preprocess-taxifeatures' + '-' + datetime.datetime.now().strftime('%y%m%d-%H%M%S'),\n",
        "    'project': PROJECT,\n",
        "    'runner': RUNNER\n",
        "  }\n",
        "  #instantiate PipelineOptions object using options dictionary\n",
        "  opts = beam.pipeline.PipelineOptions(flags=[], **options)\n",
        "  #instantantiate Pipeline object using PipelineOptions\n",
        "  p = beam.Pipeline(options=opts)\n",
        "  for phase in [1,2]:\n",
        "    query = create_query(phase, EVERY_N) \n",
        "    outfile = os.path.join(OUTPUT_DIR, '{}.csv'.format(phase))\n",
        "    (\n",
        "      p | 'read_{}'.format(phase) >> beam.io.Read(beam.io.BigQuerySource(query=query, use_standard_sql=True))\n",
        "        | 'tocsv_{}'.format(phase) >> beam.Map(to_csv)\n",
        "        | 'write_{}'.format(phase) >> beam.io.Write(beam.io.WriteToText(outfile))\n",
        "    )\n",
        "\n",
        "  p.run().wait_until_finish()"
      ],
      "execution_count": 0,
      "outputs": []
    },
    {
      "metadata": {
        "id": "LYwQrdx62rSw",
        "colab_type": "text"
      },
      "cell_type": "markdown",
      "source": [
        "Run pipeline locally"
      ]
    },
    {
      "metadata": {
        "id": "4COA_TUg2rSx",
        "colab_type": "code",
        "colab": {}
      },
      "cell_type": "code",
      "source": [
        "#50*100000 /  20 s\n",
        "#50*1000 / 22k / 5 min\n",
        "#50*10 / 2.2m / 7:33,7:53\n",
        "preprocess(50*1, 'DirectRunner') "
      ],
      "execution_count": 0,
      "outputs": []
    },
    {
      "metadata": {
        "id": "iRzhoR6m2rS1",
        "colab_type": "text"
      },
      "cell_type": "markdown",
      "source": [
        "Run pipleline on cloud on a larger sample size."
      ]
    },
    {
      "metadata": {
        "id": "Gznaaw5u2rS2",
        "colab_type": "code",
        "colab": {}
      },
      "cell_type": "code",
      "source": [
        "preprocess(50*1, 'DataflowRunner') \n",
        "#change first arg to None to preprocess full dataset"
      ],
      "execution_count": 0,
      "outputs": []
    },
    {
      "metadata": {
        "id": "qv2zLqvr2rS5",
        "colab_type": "text"
      },
      "cell_type": "markdown",
      "source": [
        "Once the job completes, observe the files created in Google Cloud Storage"
      ]
    },
    {
      "metadata": {
        "id": "1ze1F4Xy2rS7",
        "colab_type": "code",
        "colab": {}
      },
      "cell_type": "code",
      "source": [
        "%%bash\n",
        "gsutil ls -l gs://$BUCKET/taxifare/ch4/taxi_preproc/"
      ],
      "execution_count": 0,
      "outputs": []
    },
    {
      "metadata": {
        "id": "-eW7skIB2rTE",
        "colab_type": "code",
        "colab": {}
      },
      "cell_type": "code",
      "source": [
        "%%bash\n",
        "#print first 10 lines of first shard of train.csv\n",
        "gsutil cat \"gs://$BUCKET/taxifare/ch4/taxi_preproc/train.csv-00000-of-*\" | head"
      ],
      "execution_count": 0,
      "outputs": []
    },
    {
      "metadata": {
        "id": "GDbvVHzZ2rTH",
        "colab_type": "text"
      },
      "cell_type": "markdown",
      "source": [
        "<h2> 4. Develop model with new inputs </h2>\n",
        "\n",
        "Download the first shard of the preprocessed data to enable local development."
      ]
    },
    {
      "metadata": {
        "id": "bsYjOCcw2rTI",
        "colab_type": "code",
        "colab": {}
      },
      "cell_type": "code",
      "source": [
        "%%bash\n",
        "mkdir sample\n",
        "gsutil cp \"gs://$BUCKET/taxifare/ch4/taxi_preproc/train.csv-00000-of-*\" sample/train.csv\n",
        "gsutil cp \"gs://$BUCKET/taxifare/ch4/taxi_preproc/valid.csv-00000-of-*\" sample/valid.csv"
      ],
      "execution_count": 0,
      "outputs": []
    },
    {
      "metadata": {
        "id": "gV_JWkeT2rTK",
        "colab_type": "text"
      },
      "cell_type": "markdown",
      "source": [
        "We have two new inputs in the INPUT_COLUMNS, three engineered features, and the estimator involves bucketization and feature crosses."
      ]
    },
    {
      "metadata": {
        "id": "-T8qNmC82rTL",
        "colab_type": "code",
        "colab": {}
      },
      "cell_type": "code",
      "source": [
        "%%bash\n",
        "grep -A 20 \"INPUT_COLUMNS =\" taxifare/trainer/model.py"
      ],
      "execution_count": 0,
      "outputs": []
    },
    {
      "metadata": {
        "id": "1X2eN5uy2rTO",
        "colab_type": "code",
        "colab": {}
      },
      "cell_type": "code",
      "source": [
        "%%bash\n",
        "grep -A 50 \"build_estimator\" taxifare/trainer/model.py"
      ],
      "execution_count": 0,
      "outputs": []
    },
    {
      "metadata": {
        "id": "oxF7rjAO2rTR",
        "colab_type": "code",
        "colab": {}
      },
      "cell_type": "code",
      "source": [
        "%%bash\n",
        "grep -A 15 \"add_engineered(\" taxifare/trainer/model.py"
      ],
      "execution_count": 0,
      "outputs": []
    },
    {
      "metadata": {
        "id": "GKOzsG8I2rTU",
        "colab_type": "text"
      },
      "cell_type": "markdown",
      "source": [
        "Try out the new model on the local sample to make sure it works fine."
      ]
    },
    {
      "metadata": {
        "id": "ofs35Fi92rTV",
        "colab_type": "code",
        "colab": {}
      },
      "cell_type": "code",
      "source": [
        "%%bash\n",
        "rm -rf taxifare.tar.gz taxi_trained\n",
        "export PYTHONPATH=${PYTHONPATH}:${PWD}/taxifare\n",
        "python -m trainer.task \\\n",
        "  --train_data_paths=${PWD}/sample/train.csv \\\n",
        "  --eval_data_paths=${PWD}/sample/valid.csv  \\\n",
        "  --output_dir=${PWD}/taxi_trained \\\n",
        "  --train_steps=1000 \\\n",
        "  --job-dir=/tmp"
      ],
      "execution_count": 0,
      "outputs": []
    },
    {
      "metadata": {
        "id": "3Obrt8Gy2rTX",
        "colab_type": "code",
        "colab": {}
      },
      "cell_type": "code",
      "source": [
        "%%bash\n",
        "ls taxi_trained/export/exporter/"
      ],
      "execution_count": 0,
      "outputs": []
    },
    {
      "metadata": {
        "id": "oHphTW9T2rTZ",
        "colab_type": "code",
        "colab": {}
      },
      "cell_type": "code",
      "source": [
        "%%writefile /tmp/test.json\n",
        "{\"dayofweek\": \"Sun\", \"hourofday\": 17, \"pickuplon\": -73.885262, \"pickuplat\": 40.773008, \"dropofflon\": -73.987232, \"dropofflat\": 40.732403, \"passengers\": 2}"
      ],
      "execution_count": 0,
      "outputs": []
    },
    {
      "metadata": {
        "id": "h4MUWX0w2rTb",
        "colab_type": "code",
        "colab": {}
      },
      "cell_type": "code",
      "source": [
        "%%bash\n",
        "model_dir=$(ls ${PWD}/taxi_trained/export/exporter)\n",
        "gcloud ml-engine local predict \\\n",
        "  --model-dir=${PWD}/taxi_trained/export/exporter/${model_dir} \\\n",
        "  --json-instances=/tmp/test.json"
      ],
      "execution_count": 0,
      "outputs": []
    },
    {
      "metadata": {
        "id": "u1Hx6Se12rTd",
        "colab_type": "code",
        "colab": {}
      },
      "cell_type": "code",
      "source": [
        "#if gcloud ml-engine local predict fails, might need to update glcoud\n",
        "#!gcloud --quiet components update"
      ],
      "execution_count": 0,
      "outputs": []
    },
    {
      "metadata": {
        "id": "fgja3wWY2rTf",
        "colab_type": "text"
      },
      "cell_type": "markdown",
      "source": [
        "<h2> 5. Train on cloud </h2>\n"
      ]
    },
    {
      "metadata": {
        "id": "yIkpVFwd2rTf",
        "colab_type": "code",
        "colab": {}
      },
      "cell_type": "code",
      "source": [
        "%%bash\n",
        "OUTDIR=gs://${BUCKET}/taxifare/ch4/taxi_trained\n",
        "JOBNAME=lab4a_$(date -u +%y%m%d_%H%M%S)\n",
        "echo $OUTDIR $REGION $JOBNAME\n",
        "gsutil -m rm -rf $OUTDIR\n",
        "gcloud ml-engine jobs submit training $JOBNAME \\\n",
        "  --region=$REGION \\\n",
        "  --module-name=trainer.task \\\n",
        "  --package-path=${PWD}/taxifare/trainer \\\n",
        "  --job-dir=$OUTDIR \\\n",
        "  --staging-bucket=gs://$BUCKET \\\n",
        "  --scale-tier=BASIC \\\n",
        "  --runtime-version=$TF_VERSION \\\n",
        "  -- \\\n",
        "  --train_data_paths=\"gs://$BUCKET/taxifare/ch4/taxi_preproc/train*\" \\\n",
        "  --eval_data_paths=\"gs://${BUCKET}/taxifare/ch4/taxi_preproc/valid*\"  \\\n",
        "  --train_steps=5000 \\\n",
        "  --output_dir=$OUTDIR"
      ],
      "execution_count": 0,
      "outputs": []
    },
    {
      "metadata": {
        "id": "nJh47hjn2rTh",
        "colab_type": "text"
      },
      "cell_type": "markdown",
      "source": [
        "The RMSE is now 8.33249, an improvement over the 9.3 that we were getting ... of course, we won't know until we train/validate on a larger dataset. Still, this is promising. But before we do that, let's do hyper-parameter tuning."
      ]
    },
    {
      "metadata": {
        "id": "KSnaBLMk2rTi",
        "colab_type": "text"
      },
      "cell_type": "markdown",
      "source": [
        "<h2> 6. Hyper-parameter tune </h2>\n",
        "\n",
        "Look at <a href=\"hyperparam.ipynb\">hyper-parameter tuning notebook</a> to decide what parameters to use for model. Based on that run, I ended up choosing:\n",
        "<ol>\n",
        "<li> train_batch_size: 512 </li>\n",
        "<li> nbuckets: 16 </li>\n",
        "<li> hidden_units: \"64 64 64 8\" </li>    \n",
        "</ol>\n",
        "\n",
        "This gives an RMSE of 5, a considerable improvement from the 8.3 we were getting earlier ... Let's try this over a larger dataset."
      ]
    },
    {
      "metadata": {
        "id": "UVwROXdo9-zC",
        "colab_type": "code",
        "colab": {}
      },
      "cell_type": "code",
      "source": [
        "!unzip taxifare2.zip"
      ],
      "execution_count": 0,
      "outputs": []
    },
    {
      "metadata": {
        "id": "yAm8W0812rTj",
        "colab_type": "text"
      },
      "cell_type": "markdown",
      "source": [
        "<h1> Run Cloud training on 2 million row dataset </h1>\n",
        "\n",
        "This run uses as input 2 million rows and takes ~20 minutes with 10 workers (STANDARD_1 pricing tier). The model is exactly the same as above. The only changes are to the input (to use the larger dataset) and to the Cloud MLE tier (to use STANDARD_1 instead of BASIC -- STANDARD_1 is approximately 10x more powerful than BASIC). Because the Dataflow preprocessing takes about 15 minutes, we train here using CSV files in a public bucket.\n",
        "\n",
        "When doing distributed training, use train_steps instead of num_epochs. The distributed workers don't know how many rows there are, but we can calculate train_steps = num_rows \\* num_epochs / train_batch_size. In this case, we have 2141023 * 100 / 512 = 418168 train steps."
      ]
    },
    {
      "metadata": {
        "id": "FoRGI5AhN4Ky",
        "colab_type": "code",
        "colab": {}
      },
      "cell_type": "code",
      "source": [
        "!cat taxifare/trainer/task.py\n"
      ],
      "execution_count": 0,
      "outputs": []
    },
    {
      "metadata": {
        "id": "9W1W-Xrw_mMA",
        "colab_type": "code",
        "colab": {}
      },
      "cell_type": "code",
      "source": [
        "!cat taxifare/trainer/model.py\n"
      ],
      "execution_count": 0,
      "outputs": []
    },
    {
      "metadata": {
        "id": "J6RLAGhxFfEQ",
        "colab_type": "code",
        "colab": {}
      },
      "cell_type": "code",
      "source": [
        "%%bash\n",
        "rm -rf taxifare.tar.gz taxi_trained\n",
        "export PYTHONPATH=${PYTHONPATH}:${PWD}/taxifare\n",
        "python -m trainer.task \\\n",
        "   --train_data_paths=\"gs://qwiklabs-gcp-5b909d1c2b395acb/taxifare/2.2m/1.csv*\" \\\n",
        "   --eval_data_paths=\"gs://qwiklabs-gcp-5b909d1c2b395acb/taxifare/2.2m/2.csv*\"  \\\n",
        "   --output_dir=${PWD}/taxi_trained \\\n",
        "   --train_steps=1000 --job-dir=./tmp"
      ],
      "execution_count": 0,
      "outputs": []
    },
    {
      "metadata": {
        "id": "Dvy_NDk12rTj",
        "colab_type": "code",
        "colab": {}
      },
      "cell_type": "code",
      "source": [
        "%%bash\n",
        "\n",
        "# WARNING -- this uses significant resources and is optional. Remove this line to run the block.\n",
        "\n",
        "OUTDIR=gs://qwiklabs-gcp-5b909d1c2b395acb/taxifare/feateng22m\n",
        "JOBNAME=lab4a_$(date -u +%y%m%d_%H%M%S)\n",
        "TIER=STANDARD_1 \n",
        "\n",
        "echo $OUTDIR $REGION $JOBNAME\n",
        "gsutil -m rm -rf $OUTDIR\n",
        "\n",
        "gcloud ml-engine jobs submit training $JOBNAME \\\n",
        "   --region=$REGION \\\n",
        "   --module-name=trainer.task \\\n",
        "   --package-path=${PWD}/taxifare/trainer \\\n",
        "   --job-dir=$OUTDIR \\\n",
        "   --staging-bucket=gs://$BUCKET \\\n",
        "   --scale-tier=$TIER \\\n",
        "   --runtime-version=$TF_VERSION \\\n",
        "   -- \\\n",
        "   --train_data_paths=\"gs://qwiklabs-gcp-5b909d1c2b395acb/taxifare/22m/1.csv*\" \\\n",
        "   --eval_data_paths=\"gs://qwiklabs-gcp-5b909d1c2b395acb/taxifare/22m/2.csv*\"  \\\n",
        "   --output_dir=$OUTDIR \\\n",
        "   --train_steps=418168 \\\n",
        "   --train_batch_size=512 --nbuckets=16 --hidden_units=\"64 64 64 8\""
      ],
      "execution_count": 0,
      "outputs": []
    },
    {
      "metadata": {
        "id": "E19g6ATS2rTm",
        "colab_type": "text"
      },
      "cell_type": "markdown",
      "source": [
        "### Start Tensorboard"
      ]
    },
    {
      "metadata": {
        "id": "Mev2adpNA2SF",
        "colab_type": "code",
        "colab": {}
      },
      "cell_type": "code",
      "source": [
        "!pip install tensorboard==1.13.0\n",
        "!kill 1456\n",
        "%reload_ext tensorboard.notebook \n",
        "OUTDIR='gs://{0}/taxifare/feateng22m'.format(BUCKET)\n",
        "print OUTDIR"
      ],
      "execution_count": 0,
      "outputs": []
    },
    {
      "metadata": {
        "id": "sz8JsfyJ2rTn",
        "colab_type": "code",
        "colab": {}
      },
      "cell_type": "code",
      "source": [
        "%tensorboard --logdir $OUTDIR"
      ],
      "execution_count": 0,
      "outputs": []
    },
    {
      "metadata": {
        "id": "noMWBnHu2rTr",
        "colab_type": "text"
      },
      "cell_type": "markdown",
      "source": [
        "### Stop Tensorboard"
      ]
    },
    {
      "metadata": {
        "id": "jTm-gOcI2rTr",
        "colab_type": "code",
        "colab": {}
      },
      "cell_type": "code",
      "source": [
        "pids_df = TensorBoard.list()\n",
        "if not pids_df.empty:\n",
        "    for pid in pids_df['pid']:\n",
        "        TensorBoard().stop(pid)\n",
        "        print 'Stopped TensorBoard with pid {}'.format(pid)"
      ],
      "execution_count": 0,
      "outputs": []
    },
    {
      "metadata": {
        "id": "cZCfh0Ya2rTt",
        "colab_type": "text"
      },
      "cell_type": "markdown",
      "source": [
        "The RMSE after training on the 2-million-row dataset is \\$3.03.  This graph shows the improvements so far ..."
      ]
    },
    {
      "metadata": {
        "id": "qlYAGYjd2rTu",
        "colab_type": "code",
        "colab": {}
      },
      "cell_type": "code",
      "source": [
        "import pandas as pd\n",
        "import seaborn as sns\n",
        "import numpy as np\n",
        "import matplotlib.pyplot as plt\n",
        "\n",
        "df = pd.DataFrame({'Lab' : pd.Series(['1a', '2-3', '4a', '4b', '4c']),\n",
        "              'Method' : pd.Series(['Heuristic Benchmark', 'tf.learn', '+Feature Eng.', '+ Hyperparam', '+ 2m rows']),\n",
        "              'RMSE': pd.Series([8.026, 9.4, 8.3, 5.0, 3.03]) })\n",
        "\n",
        "ax = sns.barplot(data = df, x = 'Method', y = 'RMSE')\n",
        "ax.set_ylabel('RMSE (dollars)')\n",
        "ax.set_xlabel('Labs/Methods')\n",
        "plt.plot(np.linspace(-20, 120, 1000), [5] * 1000, 'b');"
      ],
      "execution_count": 0,
      "outputs": []
    },
    {
      "metadata": {
        "id": "JJv5vdkM2rTz",
        "colab_type": "code",
        "colab": {}
      },
      "cell_type": "code",
      "source": [
        "%%bash\n",
        "gsutil -m mv gs://${BUCKET}/taxifare/ch4/  gs://${BUCKET}/taxifare/ch4_1m/"
      ],
      "execution_count": 0,
      "outputs": []
    },
    {
      "metadata": {
        "id": "bQCzitOC2rT2",
        "colab_type": "text"
      },
      "cell_type": "markdown",
      "source": [
        "Copyright 2019 Counter Factual .AI LLC. Licensed under the Apache License, Version 2.0 (the \"License\"); you may not use this file except in compliance with the License. You may obtain a copy of the License at http://www.apache.org/licenses/LICENSE-2.0 Unless required by applicable law or agreed to in writing, software distributed under the License is distributed on an \"AS IS\" BASIS, WITHOUT WARRANTIES OR CONDITIONS OF ANY KIND, either express or implied. See the License for the specific language governing permissions and limitations under the License"
      ]
    }
  ]
}