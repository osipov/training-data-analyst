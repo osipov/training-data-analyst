{
  "nbformat": 4,
  "nbformat_minor": 0,
  "metadata": {
    "colab": {
      "name": "mle_hparams.ipynb",
      "version": "0.3.2",
      "provenance": [],
      "collapsed_sections": []
    },
    "kernelspec": {
      "display_name": "Python 2",
      "language": "python",
      "name": "python2"
    }
  },
  "cells": [
    {
      "metadata": {
        "deletable": true,
        "editable": true,
        "id": "tnRmP-UbemTH",
        "colab_type": "text"
      },
      "cell_type": "markdown",
      "source": [
        "<h1> Hyper-parameter tuning </h1>\n",
        "\n",
        "This notebook will show you how to carry out hyper-parameter tuning.\n",
        "\n",
        "\n",
        "---\n",
        "Before you start, **make sure that you are logged in with your student account**. Otherwise you may incur Google Cloud charges for using this notebook. \n",
        "\n",
        "---\n",
        "\n",
        "\n",
        "Also, remember to uncheck \"Reset all runtimes before running\" when executing the next cell.\n",
        "\n",
        "Reseting the runtime will delete any files you may have on your notebook file system. \n",
        "\n",
        "![](https://i.imgur.com/9dgw0h0.png)\n"
      ]
    },
    {
      "metadata": {
        "id": "09Nf9S59e1AU",
        "colab_type": "code",
        "cellView": "form",
        "colab": {}
      },
      "cell_type": "code",
      "source": [
        "#@markdown Copy-paste your GCP Project ID in the following field:\n",
        "\n",
        "PROJECT = \"\" #@param {type: \"string\"}\n",
        "\n",
        "#@markdown Next, use Shift-Enter to run this cell and complete authentication.\n",
        "\n",
        "try:  \n",
        "  from google.colab import auth\n",
        "  auth.authenticate_user()  \n",
        "  print(\"AUTHENTICATED\")\n",
        "except:\n",
        "  print(\"FAILED to authenticate\")\n",
        "\n",
        "#Modify the following to use a different bucket and/or region\n",
        "#for Google Cloud Storage and for Cloud MLE\n",
        "BUCKET = PROJECT  \n",
        "REGION = \"us-central1\"  \n",
        "\n",
        "# Copy taxi-*.csv files from github if they are missing from the runtime.\n",
        "!wget --quiet -nc https://github.com/osipov/training-data-analyst/raw/master/bootcamps/serverless_ml/taxi-11k-datasets.zip\n",
        "!unzip -q -n taxi-11k-datasets.zip "
      ],
      "execution_count": 0,
      "outputs": []
    },
    {
      "metadata": {
        "id": "__sEZjVhzIvY",
        "colab_type": "text"
      },
      "cell_type": "markdown",
      "source": [
        "The following cells are based on code from the earlier lab on Cloud MLE. Revisit that lab to review what they do."
      ]
    },
    {
      "metadata": {
        "deletable": true,
        "editable": true,
        "id": "GwHhHwqPemTQ",
        "colab_type": "code",
        "colab": {}
      },
      "cell_type": "code",
      "source": [
        "# for bash\n",
        "import os\n",
        "os.environ['PROJECT'] = PROJECT\n",
        "os.environ['BUCKET'] = BUCKET\n",
        "os.environ['REGION'] = REGION\n",
        "os.environ['TF_VERSION'] = '1.12'  # Cloud MLE Latest supported Tensorflow version"
      ],
      "execution_count": 0,
      "outputs": []
    },
    {
      "metadata": {
        "id": "2qUecH_BemTT",
        "colab_type": "code",
        "colab": {}
      },
      "cell_type": "code",
      "source": [
        "%%bash\n",
        "gcloud config set project $PROJECT\n",
        "gcloud config set compute/region $REGION"
      ],
      "execution_count": 0,
      "outputs": []
    },
    {
      "metadata": {
        "id": "cFWkQ65hhVdy",
        "colab_type": "code",
        "colab": {}
      },
      "cell_type": "code",
      "source": [
        "%%bash\n",
        "rm -rf taxifare\n",
        "mkdir -p taxifare/trainer\n",
        "\n",
        "for file in taxifare/setup.py \\\n",
        "            taxifare/trainer/__init__.py \\\n",
        "            taxifare/trainer/model.py \\\n",
        "            taxifare/trainer/task.py\n",
        "do\n",
        "  wget --quiet -nc \\\n",
        "  https://github.com/osipov/training-data-analyst/raw/master/bootcamps/serverless_ml/hparams/$file \\\n",
        "  -O $file\n",
        "done\n",
        "\n",
        "find taxifare"
      ],
      "execution_count": 0,
      "outputs": []
    },
    {
      "metadata": {
        "deletable": true,
        "editable": true,
        "id": "E8XHOHLPemTY",
        "colab_type": "text"
      },
      "cell_type": "markdown",
      "source": [
        "<h1> 1. Command-line parameters to task.py </h1>\n",
        "\n",
        "Review the command-line parameters to task.py.  Any of these parameters could be hypertuned."
      ]
    },
    {
      "metadata": {
        "deletable": true,
        "editable": true,
        "id": "QWXsdYHQemTZ",
        "colab_type": "code",
        "colab": {}
      },
      "cell_type": "code",
      "source": [
        "!grep -A 2 add_argument taxifare/trainer/task.py"
      ],
      "execution_count": 0,
      "outputs": []
    },
    {
      "metadata": {
        "id": "I5-565Ufiejw",
        "colab_type": "text"
      },
      "cell_type": "markdown",
      "source": [
        "<h1>2. Evaluation metric</h1>\n",
        "\n",
        "Hyperparameter tuning requires a special evaluation metric. It could be any objective function."
      ]
    },
    {
      "metadata": {
        "id": "rxUdRErsj09u",
        "colab_type": "code",
        "colab": {}
      },
      "cell_type": "code",
      "source": [
        "!grep -A 5 add_eval_metrics taxifare/trainer/model.py\n"
      ],
      "execution_count": 0,
      "outputs": []
    },
    {
      "metadata": {
        "deletable": true,
        "editable": true,
        "id": "4mOtXsShemTp",
        "colab_type": "text"
      },
      "cell_type": "markdown",
      "source": [
        "<h1> 3. Make sure outputs do not clobber each other </h1>\n",
        "\n",
        "The trial-number is used as part of the path to the output directory."
      ]
    },
    {
      "metadata": {
        "deletable": true,
        "editable": true,
        "id": "7vXa9vb2emTq",
        "colab_type": "code",
        "colab": {}
      },
      "cell_type": "code",
      "source": [
        "!grep -A 5 \"trial\" taxifare/trainer/task.py"
      ],
      "execution_count": 0,
      "outputs": []
    },
    {
      "metadata": {
        "deletable": true,
        "editable": true,
        "id": "ODPzoJxQemTv",
        "colab_type": "text"
      },
      "cell_type": "markdown",
      "source": [
        "<h1> 4. Create hyper-parameter configuration </h1>\n",
        "\n",
        "The file specifies the search region in parameter space.  Cloud MLE carries out a smart search algorithm within these constraints (i.e. it does not try out every single value)."
      ]
    },
    {
      "metadata": {
        "deletable": true,
        "editable": true,
        "id": "Pm3iJqf0emTw",
        "colab_type": "code",
        "colab": {}
      },
      "cell_type": "code",
      "source": [
        "%%writefile hyperparam.yaml\n",
        "trainingInput:\n",
        "  scaleTier: BASIC\n",
        "  hyperparameters:\n",
        "    goal: MINIMIZE\n",
        "    maxTrials: 1\n",
        "    maxParallelTrials: 1\n",
        "    hyperparameterMetricTag: rmse\n",
        "    params:\n",
        "    - parameterName: train_steps\n",
        "      type: INTEGER\n",
        "      minValue: 900\n",
        "      maxValue: 1000\n",
        "      scaleType: UNIT_LINEAR_SCALE      \n",
        "    - parameterName: train_batch_size\n",
        "      type: INTEGER\n",
        "      minValue: 64\n",
        "      maxValue: 512\n",
        "      scaleType: UNIT_LOG_SCALE\n",
        "    - parameterName: hidden_units\n",
        "      type: CATEGORICAL\n",
        "      categoricalValues: [\"128 32\", \"256 128 16\", \"64 64 64 8\"]       "
      ],
      "execution_count": 0,
      "outputs": []
    },
    {
      "metadata": {
        "id": "SoKU7TKakU7H",
        "colab_type": "code",
        "colab": {}
      },
      "cell_type": "code",
      "source": [
        "%%bash\n",
        "gsutil -m rm -rf gs://${BUCKET}/taxifare/11k/*.csv\n",
        "gsutil -m cp ${PWD}/*.csv gs://${BUCKET}/taxifare/11k/"
      ],
      "execution_count": 0,
      "outputs": []
    },
    {
      "metadata": {
        "deletable": true,
        "editable": true,
        "id": "qJMyFLOmemT1",
        "colab_type": "text"
      },
      "cell_type": "markdown",
      "source": [
        "<h1> 5. Run the training job </h1>\n",
        "\n",
        "Just --config to the usual training command."
      ]
    },
    {
      "metadata": {
        "deletable": true,
        "editable": true,
        "id": "YzYwwyPzemT3",
        "colab_type": "code",
        "colab": {}
      },
      "cell_type": "code",
      "source": [
        "%%bash\n",
        "OUTDIR=gs://${BUCKET}/taxifare/11k/taxi_trained_hparams\n",
        "JOBNAME=mle_hparams_$(date -u +%y%m%d_%H%M%S)\n",
        "echo $OUTDIR $REGION $JOBNAME\n",
        "\n",
        "gsutil -m rm -rf $OUTDIR\n",
        "\n",
        "gcloud ml-engine jobs submit training $JOBNAME \\\n",
        "   --region=$REGION \\\n",
        "   --module-name=trainer.task \\\n",
        "   --package-path=${PWD}/taxifare/trainer \\\n",
        "   --job-dir=$OUTDIR \\\n",
        "   --staging-bucket=gs://$BUCKET \\\n",
        "   --scale-tier=BASIC \\\n",
        "   --runtime-version=${TF_VERSION} \\\n",
        "   --config=hyperparam.yaml \\\n",
        "   -- \\\n",
        "   --train_data_paths=\"gs://$BUCKET/taxifare/11k/taxi-train*\" \\\n",
        "   --eval_data_paths=\"gs://${BUCKET}/taxifare/11k/taxi-valid*\"  \\\n",
        "   --output_dir=$OUTDIR \\"
      ],
      "execution_count": 0,
      "outputs": []
    },
    {
      "metadata": {
        "id": "n6j-sTy4mVs3",
        "colab_type": "text"
      },
      "cell_type": "markdown",
      "source": [
        "To monitor the progress of hyperparameter tuning from the GCP user interface, navigate to [Jobs](https://console.cloud.google.com/mlengine/jobs) part of the Cloud ML Engine service and look for a job with a Type listed as **Hyperparameter tuning** . Use the \"View Logs\" link to get to the details."
      ]
    },
    {
      "metadata": {
        "deletable": true,
        "editable": true,
        "id": "Il-HNwudemT-",
        "colab_type": "text"
      },
      "cell_type": "markdown",
      "source": [
        "Copyright 2019 Counter Factual .AI LLC Licensed under the Apache License, Version 2.0 (the \"License\"); you may not use this file except in compliance with the License. You may obtain a copy of the License at http://www.apache.org/licenses/LICENSE-2.0 Unless required by applicable law or agreed to in writing, software distributed under the License is distributed on an \"AS IS\" BASIS, WITHOUT WARRANTIES OR CONDITIONS OF ANY KIND, either express or implied. See the License for the specific language governing permissions and limitations under the License"
      ]
    }
  ]
}