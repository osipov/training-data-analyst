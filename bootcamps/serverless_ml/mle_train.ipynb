{
  "nbformat": 4,
  "nbformat_minor": 0,
  "metadata": {
    "colab": {
      "name": "mle_train.ipynb",
      "version": "0.3.2",
      "provenance": [],
      "collapsed_sections": []
    },
    "kernelspec": {
      "display_name": "Python 2",
      "language": "python",
      "name": "python2"
    }
  },
  "cells": [
    {
      "metadata": {
        "id": "AHJIrdDaUxaA",
        "colab_type": "text"
      },
      "cell_type": "markdown",
      "source": [
        "<h1> Scaling up ML using Cloud ML Engine </h1>\n",
        "\n",
        "In this notebook, you will take a previously developed TensorFlow model to predict taxifare rides and package it up so that it can be run in Cloud MLE. For now, the model will be trained on a small dataset. The model is still rather simplistic, and therefore, the accuracy of the model is not great either.  However, this notebook illustrates *how* to package up a TensorFlow model to run it within Cloud MLE. \n",
        "\n",
        "Later in the course, you will look at ways to make a more effective machine learning model.\n",
        "\n",
        "\n",
        "\n",
        "---\n",
        "Before you start, **make sure that you are logged in with your student account**. Otherwise you may incur Google Cloud charges for using this notebook. \n",
        "\n",
        "---"
      ]
    },
    {
      "metadata": {
        "id": "DQXV2gT2VJKb",
        "colab_type": "code",
        "cellView": "form",
        "colab": {}
      },
      "cell_type": "code",
      "source": [
        "#@markdown Copy-paste your GCP Project ID in the following field:\n",
        "\n",
        "PROJECT = \"\" #@param {type: \"string\"}\n",
        "\n",
        "#@markdown **OPTIONAL:** Modify the following to use a different Google Cloud region for your Cloud MLE jobs.\n",
        "REGION = \"us-central1\" #@param {type: \"string\"}\n",
        "\n",
        "#@markdown Next, use Shift-Enter to run this cell and complete authentication.\n",
        "\n",
        "try:  \n",
        "  from google.colab import auth\n",
        "  auth.authenticate_user()  \n",
        "  print(\"AUTHENTICATED\")\n",
        "except:\n",
        "  print(\"FAILED to authenticate\")\n",
        "  \n",
        "BUCKET = PROJECT  \n",
        "\n",
        "#@markdown Remember to uncheck \"Reset all runtimes before running\"\n",
        "\n",
        "#@markdown As you know, reseting the runtime will delete any files you may have on your notebook file system. \n",
        "#@markdown ![](https://i.imgur.com/9dgw0h0.png)\n",
        "\n",
        "# Copy taxi-*.csv files from github if they are missing from the runtime.\n",
        "!wget --quiet -nc https://github.com/osipov/training-data-analyst/raw/master/bootcamps/serverless_ml/taxi-11k-datasets.zip\n",
        "!unzip -q -n taxi-11k-datasets.zip "
      ],
      "execution_count": 0,
      "outputs": []
    },
    {
      "metadata": {
        "id": "I0MQ_B40UxaC",
        "colab_type": "text"
      },
      "cell_type": "markdown",
      "source": [
        "<h2> Environment variables for project and bucket </h2>\n",
        "\n",
        "Note that:\n",
        "<ol>\n",
        "<li> Your project id is the *unique* string that identifies your project (not the project name). You can find this from the GCP Console dashboard's Home page.  \n",
        "<li> Cloud training often involves saving and restoring model files. If you don't have a bucket already, I suggest that you create one from the GCP console (because it will dynamically check whether the bucket name you want is available). A common pattern is to prefix the bucket name by the project id, so that it is unique. Also, for cost reasons, you might want to use a single region bucket. </li>\n",
        "</ol>\n",
        "<b>Change the cell below</b> to reflect your Project ID and bucket name.\n"
      ]
    },
    {
      "metadata": {
        "id": "-J7URkLnUxaH",
        "colab_type": "code",
        "colab": {}
      },
      "cell_type": "code",
      "source": [
        "# for bash\n",
        "import os\n",
        "os.environ['PROJECT'] = PROJECT\n",
        "os.environ['BUCKET'] = BUCKET\n",
        "os.environ['REGION'] = REGION\n",
        "os.environ['TF_VERSION'] = '1.12'  # Cloud MLE Latest supported Tensorflow version"
      ],
      "execution_count": 0,
      "outputs": []
    },
    {
      "metadata": {
        "id": "uyB9sL6iUxaK",
        "colab_type": "code",
        "colab": {}
      },
      "cell_type": "code",
      "source": [
        "%%bash\n",
        "gcloud config set project $PROJECT\n",
        "gcloud config set compute/region $REGION"
      ],
      "execution_count": 0,
      "outputs": []
    },
    {
      "metadata": {
        "id": "01sFKqP-UxaM",
        "colab_type": "text"
      },
      "cell_type": "markdown",
      "source": [
        "Allow the Cloud ML Engine service account to read/write to the bucket containing training data."
      ]
    },
    {
      "metadata": {
        "id": "zm0851LcUxaN",
        "colab_type": "code",
        "colab": {}
      },
      "cell_type": "code",
      "source": [
        "%%bash\n",
        "PROJECT_ID=$PROJECT\n",
        "AUTH_TOKEN=$(gcloud auth print-access-token)\n",
        "SVC_ACCOUNT=$(curl -X GET -H \"Content-Type: application/json\" \\\n",
        "    -H \"Authorization: Bearer $AUTH_TOKEN\" \\\n",
        "    https://ml.googleapis.com/v1/projects/${PROJECT_ID}:getConfig \\\n",
        "    | python -c \"import json; import sys; response = json.load(sys.stdin); \\\n",
        "    print response['serviceAccount']\")\n",
        "\n",
        "echo \"Authorizing the Cloud ML Service $SVC_ACCOUNT to access files in $BUCKET\"\n",
        "gsutil -m defacl ch -u $SVC_ACCOUNT:R gs://$BUCKET\n",
        "\n",
        "echo \"NOTE: the following CommandException (No URLs matched if bucket is empty) can be ignored\"\n",
        "gsutil -q -m acl ch -u $SVC_ACCOUNT:R -r gs://$BUCKET  # error message (if bucket is empty) can be ignored\n",
        "\n",
        "gsutil -m acl ch -u $SVC_ACCOUNT:W gs://$BUCKET"
      ],
      "execution_count": 0,
      "outputs": []
    },
    {
      "metadata": {
        "id": "BXGdK8-BUxaQ",
        "colab_type": "text"
      },
      "cell_type": "markdown",
      "source": [
        "<h2> Packaging up the code </h2>\n",
        "\n",
        "Take your code and put into a standard Python package structure.  <a href=\"taxifare/trainer/model.py\">model.py</a> and <a href=\"taxifare/trainer/task.py\">task.py</a> contain the Tensorflow code from earlier (explore the <a href=\"taxifare/trainer/\">directory structure</a>)."
      ]
    },
    {
      "metadata": {
        "id": "aUcGDecYH7Vm",
        "colab_type": "code",
        "colab": {}
      },
      "cell_type": "code",
      "source": [
        "%%bash\n",
        "rm -rf taxifare\n",
        "mkdir -p taxifare/trainer\n",
        "\n",
        "for file in taxifare/setup.py \\\n",
        "            taxifare/trainer/__init__.py \\\n",
        "            taxifare/trainer/model.py \\\n",
        "            taxifare/trainer/task.py\n",
        "do\n",
        "  wget --quiet -nc \\\n",
        "  https://github.com/osipov/training-data-analyst/raw/master/bootcamps/serverless_ml/cloudmle/$file \\\n",
        "  -O $file\n",
        "done\n",
        "\n",
        "find taxifare"
      ],
      "execution_count": 0,
      "outputs": []
    },
    {
      "metadata": {
        "id": "YOsDgDySUxaZ",
        "colab_type": "text"
      },
      "cell_type": "markdown",
      "source": [
        "<h2> Find absolute paths to your data </h2>"
      ]
    },
    {
      "metadata": {
        "id": "AN7Rolp4Uxac",
        "colab_type": "code",
        "colab": {}
      },
      "cell_type": "code",
      "source": [
        "%%bash\n",
        "rm -rf $PWD/taxi_trained\n",
        "\n",
        "head -1 $PWD/taxi-train.csv\n",
        "head -1 $PWD/taxi-valid.csv"
      ],
      "execution_count": 0,
      "outputs": []
    },
    {
      "metadata": {
        "id": "m0ZBdVHzUxbO",
        "colab_type": "text"
      },
      "cell_type": "markdown",
      "source": [
        "<h2> Submit training job using gcloud </h2>\n",
        "\n",
        "First copy the training data to the cloud.  Then, launch a training job.\n",
        "\n",
        "After you submit the job, go to the cloud console (http://console.cloud.google.com) and select <b>Machine Learning | Jobs</b> to monitor progress.  \n",
        "\n",
        "<b>Note:</b> Don't be concerned if the notebook stalls (with a blue progress bar) or returns with an error about being unable to refresh auth tokens. This is a long-lived Cloud job and work is going on in the cloud.  Use the Cloud Console link (above) to monitor the job."
      ]
    },
    {
      "metadata": {
        "id": "xlQ-xbXEUxbP",
        "colab_type": "code",
        "colab": {}
      },
      "cell_type": "code",
      "source": [
        "%%bash\n",
        "echo $BUCKET\n",
        "gsutil -m rm -rf gs://${BUCKET}/taxifare/11k/\n",
        "gsutil -m cp ${PWD}/*.csv gs://${BUCKET}/taxifare/11k/"
      ],
      "execution_count": 0,
      "outputs": []
    },
    {
      "metadata": {
        "id": "uZ2OCmMQUxbQ",
        "colab_type": "code",
        "colab": {}
      },
      "cell_type": "code",
      "source": [
        "%%bash\n",
        "OUTDIR=gs://${BUCKET}/taxifare/11k/taxi_trained\n",
        "\n",
        "JOBNAME=mle_train_$(date -u +%y%m%d_%H%M%S)\n",
        "\n",
        "echo $OUTDIR $REGION $JOBNAME\n",
        "\n",
        "gsutil -m rm -rf $OUTDIR\n",
        "gcloud ml-engine jobs submit training $JOBNAME \\\n",
        "   --region=$REGION \\\n",
        "   --module-name=trainer.task \\\n",
        "   --package-path=${PWD}/taxifare/trainer \\\n",
        "   --job-dir=$OUTDIR \\\n",
        "   --staging-bucket=gs://$BUCKET \\\n",
        "   --scale-tier=BASIC \\\n",
        "   --runtime-version=${TF_VERSION} \\\n",
        "   -- \\\n",
        "   --train_data_paths=\"gs://${BUCKET}/taxifare/11k/taxi-train*\" \\\n",
        "   --eval_data_paths=\"gs://${BUCKET}/taxifare/11k/taxi-valid*\"  \\\n",
        "   --output_dir=$OUTDIR \\\n",
        "   --train_steps=10000"
      ],
      "execution_count": 0,
      "outputs": []
    },
    {
      "metadata": {
        "id": "0ZE0UNM_GZcq",
        "colab_type": "code",
        "colab": {}
      },
      "cell_type": "code",
      "source": [
        "OUTDIR=\"gs://{}/taxifare/11k/taxi_trained\".format(BUCKET)\n",
        "#@markdown Run this cell to start TensorBoard.\n",
        "\n",
        "#@markdown Once the TensorBoard comes up, click on the vertical ellipsis in the upper right of this cell, and choose view output full screen.\n",
        "%tensorboard --logdir $OUTDIR"
      ],
      "execution_count": 0,
      "outputs": []
    },
    {
      "metadata": {
        "id": "bbVjct7pUxbS",
        "colab_type": "text"
      },
      "cell_type": "markdown",
      "source": [
        "Don't worry if you see a message about files/objects that could not be removed. This message occurs because gsutil mr command tries to remove the output directory for trained model checkpoint files.\n",
        "\n",
        "To monitor the progress of the job from the GCP user interface, navigate to [Jobs](https://console.cloud.google.com/mlengine/jobs) part of the Cloud ML Engine service. Use the \"View Logs\" link to get the details. In the upcoming lab, you will also monitor training details using TensorBoard."
      ]
    },
    {
      "metadata": {
        "id": "yLup-4j7Uxbg",
        "colab_type": "text"
      },
      "cell_type": "markdown",
      "source": [
        "Copyright 2019 Counter Factual .AI LLC. Licensed under the Apache License, Version 2.0 (the \"License\"); you may not use this file except in compliance with the License. You may obtain a copy of the License at http://www.apache.org/licenses/LICENSE-2.0 Unless required by applicable law or agreed to in writing, software distributed under the License is distributed on an \"AS IS\" BASIS, WITHOUT WARRANTIES OR CONDITIONS OF ANY KIND, either express or implied. See the License for the specific language governing permissions and limitations under the License"
      ]
    }
  ]
}