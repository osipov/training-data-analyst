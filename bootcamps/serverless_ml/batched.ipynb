{
  "nbformat": 4,
  "nbformat_minor": 0,
  "metadata": {
    "colab": {
      "name": "batched.ipynb",
      "version": "0.3.2",
      "provenance": []
    },
    "kernelspec": {
      "display_name": "Python 2",
      "language": "python",
      "name": "python2"
    }
  },
  "cells": [
    {
      "metadata": {
        "deletable": true,
        "editable": true,
        "id": "bbs_nh8DobIm",
        "colab_type": "text"
      },
      "cell_type": "markdown",
      "source": [
        "<h1> Refactor to support out-of-memory data and custom features</h1>\n",
        "\n",
        "In this notebook, you will continue using the same small development dataset (about 11.5k rows), but the TensorFlow implementation will change to:\n",
        "<ol>\n",
        "  <li> Read data in batches </li>\n",
        "  <li> Support shared or distributed filesystems, like Google Cloud Storage, HDFS, AWS S3</li>\n",
        "  <li> Enable custom features based on individual rows from data</li>\n",
        "</ol>\n",
        "The Pandas function in the previous notebook also batched, only after it had read the entire dataset into memory. With a large dataset, this isn't an option.\n",
        "\n",
        "\n",
        "\n",
        "---\n",
        "Before you start, **make sure that you are logged in with your student account**. Otherwise you may incur Google Cloud charges for using this notebook. \n",
        "\n",
        "---"
      ]
    },
    {
      "metadata": {
        "deletable": true,
        "editable": true,
        "id": "bIif0vZKobIo",
        "colab_type": "code",
        "cellView": "form",
        "colab": {}
      },
      "cell_type": "code",
      "source": [
        "import tensorflow as tf\n",
        "import numpy as np\n",
        "import shutil\n",
        "import tensorflow as tf\n",
        "\n",
        "print tf.__version__\n",
        "\n",
        "#@markdown Remember to uncheck \"Reset all runtimes before running\"\n",
        "\n",
        "#@markdown As you know, reseting the runtime will delete any files you may have on your notebook file system. \n",
        "#@markdown ![](https://i.imgur.com/9dgw0h0.png)\n",
        "\n",
        "# Copy taxi-*.csv files from github if they are missing from the runtime.\n",
        "!wget --quiet -nc https://github.com/osipov/training-data-analyst/raw/master/bootcamps/serverless_ml/taxi-11k-datasets.zip  \n",
        "!unzip -q -n taxi-11k-datasets.zip "
      ],
      "execution_count": 0,
      "outputs": []
    },
    {
      "metadata": {
        "deletable": true,
        "editable": true,
        "id": "96WuBsX_obIr",
        "colab_type": "text"
      },
      "cell_type": "markdown",
      "source": [
        "<h2> 1. Refactor the input </h2>\n",
        "\n",
        "The method `read_dataset` was implemented in an earlier lab, but now is the time to make it more general and performant. Instead of using Pandas data frames as the data source, the following implementation relies on the TensorFlow Dataset API."
      ]
    },
    {
      "metadata": {
        "deletable": true,
        "editable": true,
        "id": "C_qGSLyYobIr",
        "colab_type": "code",
        "colab": {}
      },
      "cell_type": "code",
      "source": [
        "CSV_COLUMNS = ['fare_amount', 'pickuplon','pickuplat','dropofflon','dropofflat','passengers', 'key']\n",
        "LABEL_COLUMN = 'fare_amount'\n",
        "DEFAULTS = [[0.0], [-74.0], [40.0], [-74.0], [40.7], [1.0], ['nokey']]\n",
        "\n",
        "def read_dataset(filename, mode, batch_size = 512):\n",
        "  def _input_fn():\n",
        "    def decode_csv(value_column):\n",
        "      columns = tf.decode_csv(value_column, record_defaults = DEFAULTS)\n",
        "      features = dict(zip(CSV_COLUMNS, columns))\n",
        "      label = features.pop(LABEL_COLUMN)\n",
        "      return features, label\n",
        "\n",
        "    # Create list of files that match pattern\n",
        "    file_list = tf.gfile.Glob(filename)\n",
        "\n",
        "    # Create dataset from file list\n",
        "    dataset = tf.data.TextLineDataset(file_list).map(decode_csv)\n",
        "    if mode == tf.estimator.ModeKeys.TRAIN:\n",
        "        num_epochs = None # indefinitely\n",
        "        dataset = dataset.shuffle(buffer_size = 10 * batch_size)\n",
        "    else:\n",
        "        num_epochs = 1 # end-of-input after this\n",
        "\n",
        "    dataset = dataset.repeat(num_epochs).batch(batch_size)\n",
        "    return dataset.make_one_shot_iterator().get_next()\n",
        "  return _input_fn\n",
        "    \n",
        "\n",
        "def get_train():\n",
        "  return read_dataset('./taxi-train.csv', mode = tf.estimator.ModeKeys.TRAIN)\n",
        "\n",
        "def get_valid():\n",
        "  return read_dataset('./taxi-valid.csv', mode = tf.estimator.ModeKeys.EVAL)\n",
        "\n",
        "def get_test():\n",
        "  return read_dataset('./taxi-test.csv', mode = tf.estimator.ModeKeys.EVAL)"
      ],
      "execution_count": 0,
      "outputs": []
    },
    {
      "metadata": {
        "deletable": true,
        "editable": true,
        "id": "kb7Ea_QDobIv",
        "colab_type": "text"
      },
      "cell_type": "markdown",
      "source": [
        "<h2> 2. Refactor the way features are created. </h2>\n",
        "\n",
        "For now, pass these through (same as previous lab).  However, refactoring this way will enable us to break the one-to-one relationship between inputs and features."
      ]
    },
    {
      "metadata": {
        "deletable": true,
        "editable": true,
        "id": "UQV5jOfJobIw",
        "colab_type": "code",
        "colab": {}
      },
      "cell_type": "code",
      "source": [
        "INPUT_COLUMNS = [\n",
        "    tf.feature_column.numeric_column('pickuplon'),\n",
        "    tf.feature_column.numeric_column('pickuplat'),\n",
        "    tf.feature_column.numeric_column('dropofflat'),\n",
        "    tf.feature_column.numeric_column('dropofflon'),\n",
        "    tf.feature_column.numeric_column('passengers'),\n",
        "]\n",
        "\n",
        "def add_more_features(feats):\n",
        "  # Nothing to add (yet!)\n",
        "  return feats\n",
        "\n",
        "feature_cols = add_more_features(INPUT_COLUMNS)"
      ],
      "execution_count": 0,
      "outputs": []
    },
    {
      "metadata": {
        "deletable": true,
        "editable": true,
        "id": "ZinYrLwTobIz",
        "colab_type": "text"
      },
      "cell_type": "markdown",
      "source": [
        "<h2> Create and train the model </h2>\n",
        "\n",
        "Note that we train for num_steps * batch_size examples."
      ]
    },
    {
      "metadata": {
        "deletable": true,
        "editable": true,
        "id": "9q3hkjQGobI0",
        "colab_type": "code",
        "colab": {}
      },
      "cell_type": "code",
      "source": [
        "tf.logging.set_verbosity(tf.logging.INFO)\n",
        "\n",
        "OUTDIR = 'taxi_trained'\n",
        "shutil.rmtree(OUTDIR, ignore_errors = True) # start fresh each time\n",
        "\n",
        "model = tf.estimator.LinearRegressor(\n",
        "      feature_columns = feature_cols, model_dir = OUTDIR)\n",
        "\n",
        "model.train(input_fn = get_train(), steps = 100);  "
      ],
      "execution_count": 0,
      "outputs": []
    },
    {
      "metadata": {
        "deletable": true,
        "editable": true,
        "id": "NSK4tmzgobI2",
        "colab_type": "text"
      },
      "cell_type": "markdown",
      "source": [
        "<h3> Evaluate model </h3>\n",
        "\n",
        "As before, evaluate on the validation data.  We'll do the third refactoring (to move the evaluation into the training loop) in the next lab."
      ]
    },
    {
      "metadata": {
        "deletable": true,
        "editable": true,
        "id": "YOs9EXZpobI3",
        "colab_type": "code",
        "colab": {}
      },
      "cell_type": "code",
      "source": [
        "def print_rmse(model, name, input_fn):\n",
        "  metrics = model.evaluate(input_fn = input_fn, steps = 1)\n",
        "  print 'RMSE on {} dataset = {}'.format(name, np.sqrt(metrics['average_loss']))\n",
        "  \n",
        "print_rmse(model, 'validation', get_valid())"
      ],
      "execution_count": 0,
      "outputs": []
    },
    {
      "metadata": {
        "deletable": true,
        "editable": true,
        "id": "rCLqjgO1obI6",
        "colab_type": "text"
      },
      "cell_type": "markdown",
      "source": [
        "Copyright 2019 Counter Factual .AI LLC. Licensed under the Apache License, Version 2.0 (the \"License\"); you may not use this file except in compliance with the License. You may obtain a copy of the License at http://www.apache.org/licenses/LICENSE-2.0 Unless required by applicable law or agreed to in writing, software distributed under the License is distributed on an \"AS IS\" BASIS, WITHOUT WARRANTIES OR CONDITIONS OF ANY KIND, either express or implied. See the License for the specific language governing permissions and limitations under the License"
      ]
    }
  ]
}