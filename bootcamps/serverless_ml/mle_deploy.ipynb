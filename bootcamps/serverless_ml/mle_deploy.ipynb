{
  "nbformat": 4,
  "nbformat_minor": 0,
  "metadata": {
    "colab": {
      "name": "mle_deploy.ipynb",
      "version": "0.3.2",
      "provenance": [],
      "collapsed_sections": []
    },
    "kernelspec": {
      "display_name": "Python 2",
      "language": "python",
      "name": "python2"
    }
  },
  "cells": [
    {
      "metadata": {
        "id": "AHJIrdDaUxaA",
        "colab_type": "text"
      },
      "cell_type": "markdown",
      "source": [
        "<h1> Scaling up ML using Cloud ML Engine </h1>\n",
        "\n",
        "In this notebook, we take a previously developed TensorFlow model to predict taxifare rides and package it up so that it can be run in Cloud MLE. For now, we'll run this on a small dataset. The model that was developed is rather simplistic, and therefore, the accuracy of the model is not great either.  However, this notebook illustrates *how* to package up a TensorFlow model to run it within Cloud ML. \n",
        "\n",
        "Later in the course, we will look at ways to make a more effective machine learning model.\n",
        "\n",
        "\n",
        "\n",
        "---\n",
        "Before you start, **make sure that you are logged in with your student account**. Otherwise you may incur Google Cloud charges for using this notebook. \n",
        "\n",
        "---"
      ]
    },
    {
      "metadata": {
        "id": "DQXV2gT2VJKb",
        "colab_type": "code",
        "cellView": "both",
        "colab": {}
      },
      "cell_type": "code",
      "source": [
        "#@markdown Copy-paste your GCP Project ID in the following field:\n",
        "\n",
        "PROJECT = \"\" #@param {type: \"string\"}\n",
        "\n",
        "#@markdown **OPTIONAL:** Modify the following to use a different Google Cloud region for your Cloud MLE jobs.\n",
        "REGION = \"us-central1\" #@param {type: \"string\"}\n",
        "\n",
        "#@markdown Next, use Shift-Enter to run this cell and complete authentication.\n",
        "\n",
        "try:  \n",
        "  from google.colab import auth\n",
        "  auth.authenticate_user()  \n",
        "  print(\"AUTHENTICATED\")\n",
        "except:\n",
        "  print(\"FAILED to authenticate\")\n",
        "  \n",
        "BUCKET = PROJECT  "
      ],
      "execution_count": 0,
      "outputs": []
    },
    {
      "metadata": {
        "id": "I0MQ_B40UxaC",
        "colab_type": "text"
      },
      "cell_type": "markdown",
      "source": [
        "<h2> Environment variables for project and bucket </h2>\n",
        "\n",
        "Note that:\n",
        "<ol>\n",
        "<li> Your project id is the *unique* string that identifies your project (not the project name). You can find this from the GCP Console dashboard's Home page.  \n",
        "  \n",
        "<li> Cloud training often involves saving and restoring model files. If you don't have a bucket already, I suggest that you create one from the GCP console (because it will dynamically check whether the bucket name you want is available). A common pattern is to prefix the bucket name by the project id, so that it is unique. Also, for cost reasons, you might want to use a single region bucket. </li>\n",
        "</ol>\n",
        "<b>Change the cell below</b> to reflect your Project ID and bucket name.\n"
      ]
    },
    {
      "metadata": {
        "id": "-J7URkLnUxaH",
        "colab_type": "code",
        "colab": {}
      },
      "cell_type": "code",
      "source": [
        "# for bash\n",
        "import os\n",
        "os.environ['PROJECT'] = PROJECT\n",
        "os.environ['BUCKET'] = BUCKET\n",
        "os.environ['REGION'] = REGION\n",
        "os.environ['TF_VERSION'] = '1.12'  # Tensorflow version"
      ],
      "execution_count": 0,
      "outputs": []
    },
    {
      "metadata": {
        "id": "uyB9sL6iUxaK",
        "colab_type": "code",
        "colab": {}
      },
      "cell_type": "code",
      "source": [
        "%%bash\n",
        "gcloud config set project $PROJECT\n",
        "gcloud config set compute/region $REGION"
      ],
      "execution_count": 0,
      "outputs": []
    },
    {
      "metadata": {
        "id": "7naoQS2unCMc",
        "colab_type": "text"
      },
      "cell_type": "markdown",
      "source": [
        "<h1>Use TensorBoard to monitor the model located on Google Cloud Storage</h1>"
      ]
    },
    {
      "metadata": {
        "id": "01sFKqP-UxaM",
        "colab_type": "text"
      },
      "cell_type": "markdown",
      "source": [
        "Allow the Cloud ML Engine service account to read/write to the bucket containing training data."
      ]
    },
    {
      "metadata": {
        "id": "Cf_VgEd4UxbT",
        "colab_type": "text"
      },
      "cell_type": "markdown",
      "source": [
        "<h2> Deploy model </h2>\n",
        "\n",
        "Find out the actual name of the subdirectory where the model is stored and use it to deploy the model.  Deploying model will take up to <b>5 minutes</b>."
      ]
    },
    {
      "metadata": {
        "colab_type": "code",
        "id": "psX6hjliNhp5",
        "colab": {}
      },
      "cell_type": "code",
      "source": [
        "%%bash\n",
        "gsutil ls gs://${BUCKET}/taxifare/11k/taxi_trained/export/exporter"
      ],
      "execution_count": 0,
      "outputs": []
    },
    {
      "metadata": {
        "id": "qVChfDauMaJ_",
        "colab_type": "code",
        "colab": {}
      },
      "cell_type": "code",
      "source": [
        "os.environ['MODEL_NAME'] = \"taxifare\"\n",
        "os.environ['MODEL_VERSION'] = \"v1\""
      ],
      "execution_count": 0,
      "outputs": []
    },
    {
      "metadata": {
        "id": "zc3gpHmaUxbW",
        "colab_type": "code",
        "colab": {}
      },
      "cell_type": "code",
      "source": [
        "%%bash\n",
        "MODEL_LOCATION=$(gsutil ls gs://${BUCKET}/taxifare/11k/taxi_trained/export/exporter | tail -1)\n",
        "\n",
        "echo \"Run these commands one-by-one (the very first time, you'll create a model and then create a version)\"\n",
        "#gcloud ml-engine versions delete ${MODEL_VERSION} --model ${MODEL_NAME}\n",
        "#gcloud ml-engine models delete ${MODEL_NAME}\n",
        "gcloud ml-engine models create ${MODEL_NAME} --regions $REGION\n",
        "gcloud ml-engine versions create ${MODEL_VERSION} --model ${MODEL_NAME} --origin ${MODEL_LOCATION} --runtime-version ${TF_VERSION}"
      ],
      "execution_count": 0,
      "outputs": []
    },
    {
      "metadata": {
        "id": "VtNoxFGJUxbY",
        "colab_type": "text"
      },
      "cell_type": "markdown",
      "source": [
        "<h2> Prediction </h2>"
      ]
    },
    {
      "metadata": {
        "colab_type": "code",
        "id": "mpczopFfNTmC",
        "colab": {}
      },
      "cell_type": "code",
      "source": [
        "%%writefile ./test.json\n",
        "{\"pickuplon\": -73.885262,\"pickuplat\": 40.773008,\"dropofflon\": -73.987232,\"dropofflat\": 40.732403,\"passengers\": 2}"
      ],
      "execution_count": 0,
      "outputs": []
    },
    {
      "metadata": {
        "id": "6fhDlnykUxbY",
        "colab_type": "code",
        "colab": {}
      },
      "cell_type": "code",
      "source": [
        "%%bash\n",
        "gcloud ml-engine predict --model=${MODEL_NAME} --version=${MODEL_VERSION} --json-instances=./test.json"
      ],
      "execution_count": 0,
      "outputs": []
    },
    {
      "metadata": {
        "id": "-nbbIUwuUxbb",
        "colab_type": "code",
        "colab": {}
      },
      "cell_type": "code",
      "source": [
        "from googleapiclient import discovery\n",
        "from oauth2client.client import GoogleCredentials\n",
        "import json\n",
        "\n",
        "credentials = GoogleCredentials.get_application_default()\n",
        "api = discovery.build('ml', 'v1', credentials=credentials,\n",
        "            discoveryServiceUrl='https://storage.googleapis.com/cloud-ml/discovery/ml_v1_discovery.json')\n",
        "\n",
        "request_data = {'instances':\n",
        "  [\n",
        "      {\n",
        "        'pickuplon': -73.885262,\n",
        "        'pickuplat': 40.773008,\n",
        "        'dropofflon': -73.987232,\n",
        "        'dropofflat': 40.732403,\n",
        "        'passengers': 2,\n",
        "      }\n",
        "  ]\n",
        "}\n",
        "\n",
        "parent = 'projects/%s/models/%s/versions/%s' % (PROJECT, 'taxifare', 'v1')\n",
        "response = api.projects().predict(body=request_data, name=parent).execute()\n",
        "print \"response={0}\".format(response)"
      ],
      "execution_count": 0,
      "outputs": []
    },
    {
      "metadata": {
        "id": "yLup-4j7Uxbg",
        "colab_type": "text"
      },
      "cell_type": "markdown",
      "source": [
        "Copyright 2019 Counter Factual .AI LLC. Licensed under the Apache License, Version 2.0 (the \"License\"); you may not use this file except in compliance with the License. You may obtain a copy of the License at http://www.apache.org/licenses/LICENSE-2.0 Unless required by applicable law or agreed to in writing, software distributed under the License is distributed on an \"AS IS\" BASIS, WITHOUT WARRANTIES OR CONDITIONS OF ANY KIND, either express or implied. See the License for the specific language governing permissions and limitations under the License"
      ]
    }
  ]
}