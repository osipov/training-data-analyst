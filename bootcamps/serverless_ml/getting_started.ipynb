{
  "nbformat": 4,
  "nbformat_minor": 0,
  "metadata": {
    "colab": {
      "name": "getting_started_v4.ipynb",
      "version": "0.3.2",
      "provenance": [],
      "collapsed_sections": []
    },
    "kernelspec": {
      "display_name": "Python 2",
      "language": "python",
      "name": "python2"
    }
  },
  "cells": [
    {
      "metadata": {
        "id": "PDDqFd8hon3v",
        "colab_type": "text"
      },
      "cell_type": "markdown",
      "source": [
        "<h1> Sign Into your Student Google Cloud Platform (GCP) Account and Practice using this Jupyter Notebook and Colaboratory (Colab)  </h1>\n",
        "\n",
        "REMEMBER: If you are having trouble completing the following steps, you can watch a self-help walkthrough video TODO here\n",
        "<br/><br/>\n",
        "\n",
        "---\n",
        "This Jupyter notebook will help you to get started with the labs for this session. Before proceeding,  **please make sure that you are using a private window (also known as \"incognito mode\") of your Chrome browser to view this webpage**. You can find the instructions describing how to open a private window in Chrome [here](https://support.google.com/chrome/answer/95464). Keep in mind that browsers get updated all the time, so to have a predictable experience with the labs, your best bet is to use Google Chrome as your browser. Of course, you are welcome to try the private window feature of Firefox, or a similar feature in your favorite browser, but the labs may not work correctly when using the latest updates to non-Chrome browsers. \n",
        "\n",
        "<br/>Also, **check to make sure that you have received your student GCP credentials**. The credentials should have arrived to the inbox of the email that you used to check-in to this session.\n",
        "\n",
        "<br/>\n",
        "\n",
        "---\n",
        "**Step 1.** Confirm that you have a Sign In button in the upper right hand corder of your browser window. If you are in the incognito mode, it should look similar to the one on the following screenshot.\n",
        "\n",
        "If the button is there, go ahead and **sign in using your student GCP credentials by clicking on the Sign In button**. Note that after you click SIgn In, you will need to enter your GCP student username, password, and click Accept to enable your account. You will also be prompted to protect your account by providing recovery email or phone number. You can **ignore the recovery prompt by clicking Done without providing any information** because this is a temporary student account that will be deleted automatically at the end of this session.\n",
        "\n",
        "![](https://i.imgur.com/GccLk1w.png)"
      ]
    },
    {
      "metadata": {
        "id": "WCQ1oRMWCX_c",
        "colab_type": "text"
      },
      "cell_type": "markdown",
      "source": [
        "---\n",
        "**Step 2.** Welcome back! If you signed in correctly, **you should see a letter S in a circle in the upper right hand corner** where you used to have the Sign In button, like in the following screenshot. Next, click on this cell to place it in focus. You can tell which cell has focus by the drop shadow around its borders. \n",
        "\n",
        "Press Shift+Enter to move to Step 3.\n",
        "\n",
        "![](https://i.imgur.com/GkTIrvQ.png?2)"
      ]
    },
    {
      "metadata": {
        "id": "adzq21WxCEPH",
        "colab_type": "text"
      },
      "cell_type": "markdown",
      "source": [
        "---\n",
        "**Step 3.** If you have never used Colab before today, then you just ran your first Jupyter notebook cell in Colab! Congrats! Notice how the focus changed when you pressed Shift+Enter. So far you ran just the text cells in this notebook. Text cells don't produce any new output or run any code.\n",
        "\n",
        "Continue to Step 4 by using Shift+Enter."
      ]
    },
    {
      "metadata": {
        "id": "Wq75B91eon3y",
        "colab_type": "code",
        "cellView": "form",
        "colab": {}
      },
      "cell_type": "code",
      "source": [
        "import numpy as np\n",
        "import pandas as pd\n",
        "import seaborn as sns\n",
        "\n",
        "import shutil\n",
        "from google.cloud import bigquery\n",
        "\n",
        "#@markdown **Step 4.** This one is the first code cell in this notebook! Before going further, **copy-paste your GCP Project ID in the following** input:\n",
        "\n",
        "PROJECT = \"\" #@param {type: \"string\"}\n",
        "\n",
        "#@markdown Once you copied the project ID to the form above, **use Shift-Enter to run this cell**. Note that you will need to **click RUN ANYWAY** and **then click YES** to reset all runtimes before this code cell can execute.\n",
        "\n",
        "#@markdown After this cell is done running, **you should see an output below confirming that your project ID is set to the value you copy-pasted into this cell.** If you are wondering where you can find the code inside of this cell, just double click anywhere on this text. This will reveal the code on the left side of the cell.\n",
        "print(\"OK, your project ID is set to: {}\".format(PROJECT))"
      ],
      "execution_count": 0,
      "outputs": []
    },
    {
      "metadata": {
        "id": "PYhNzwf_yAqQ",
        "colab_type": "code",
        "cellView": "form",
        "colab": {}
      },
      "cell_type": "code",
      "source": [
        "#@markdown **Step 5.** Almost done! In this step you will give permissions to your Colab environment to access GCP.\n",
        "#@markdown **Use Shift+Enter to run this cell**, and then click on the link that will show up in the output section of the cell to complete authorization. Note that you will need to click ALLOW, **copy-paste the verification code into the box that appears in the output below and press Enter**. Once you see the message that says AUTHENTICATED, you're done!\n",
        "try:  \n",
        "  from google.colab import auth\n",
        "  auth.authenticate_user()  \n",
        "  print(\"AUTHENTICATED\")\n",
        "except:\n",
        "  print(\"FAILED to authenticate\")"
      ],
      "execution_count": 0,
      "outputs": []
    },
    {
      "metadata": {
        "id": "GqgsJ4r960ol",
        "colab_type": "text"
      },
      "cell_type": "markdown",
      "source": [
        "If you see the AUTHENTICATED message in the previous cell, it means that you have successfully connected to GCP using your student credentials.\n",
        "\n",
        "<h2>Recap</h2>\n",
        "\n",
        "In just a few minutes you have accomplished so much! So far, you:\n",
        "\n",
        "*   activated your student GCP credentials when you accepted the terms of service\n",
        "*   authenticated this notebook session with your GCP credentials when you completed the sign in process\n",
        "*   authorized this notebook to access your student GCP project on your behalf\n",
        "*   started to navigate through a Jupyter notebook in Colaboratory\n",
        "\n",
        "You're all done with this lab!"
      ]
    },
    {
      "metadata": {
        "id": "HVuX8oeMon5m",
        "colab_type": "text"
      },
      "cell_type": "markdown",
      "source": [
        "Copyright 2019 Counter Factual .AI LLC.\n",
        "Licensed under the Apache License, Version 2.0 (the \"License\"); you may not use this file except in compliance with the License. You may obtain a copy of the License at\n",
        "http://www.apache.org/licenses/LICENSE-2.0\n",
        "Unless required by applicable law or agreed to in writing, software distributed under the License is distributed on an \"AS IS\" BASIS, WITHOUT WARRANTIES OR CONDITIONS OF ANY KIND, either express or implied. See the License for the specific language governing permissions and limitations under the License."
      ]
    }
  ]
}