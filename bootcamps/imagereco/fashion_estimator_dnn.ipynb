{
  "nbformat": 4,
  "nbformat_minor": 0,
  "metadata": {
    "colab": {
      "name": "fashion_estimator_dnn.ipynb",
      "version": "0.3.2",
      "provenance": [],
      "private_outputs": true
    },
    "kernelspec": {
      "name": "python2",
      "display_name": "Python 2"
    },
    "accelerator": "GPU"
  },
  "cells": [
    {
      "metadata": {
        "id": "Uv_4y7K1Rj-u",
        "colab_type": "text"
      },
      "cell_type": "markdown",
      "source": [
        "# Fashion-MNIST Image Classification with TensorFlow\n",
        "\n",
        "This notebook demonstrates how to implement a deep neural network image classification model on Fashion-MNIST using TensorFlow Estimator API. "
      ]
    },
    {
      "metadata": {
        "id": "YG-yYjXaRj-4",
        "colab_type": "code",
        "colab": {}
      },
      "cell_type": "code",
      "source": [
        "#DO NOT CHANGE THIS CELL\n",
        "import os\n",
        "import tensorflow as tf\n",
        "print(tf.__version__)\n",
        "\n",
        "#required to start / stop TensorBoard in Colab\n",
        "def start_tensorboard(logdir, url_file):\n",
        "  get_ipython().system_raw('tensorboard --logdir {} --host 0.0.0.0 --port 6006 &'.format(logdir))\n",
        "  get_ipython().system_raw('lt --port 6006 >> {} 2>&1 &'.format(url_file))\n",
        "  get_ipython().system('cat {}'.format(url_file))\n",
        "\n",
        "def stop_tensorboard(url_file):\n",
        "  get_ipython().system_raw(\"ps -Af  | grep -E 'tensorboard|lt --port' | awk '{print $2}' | xargs -I % kill -9 %\")\n",
        "  get_ipython().system_raw(\"rm {}\".format(url_file))"
      ],
      "execution_count": 0,
      "outputs": []
    },
    {
      "metadata": {
        "id": "I6nNXKM2Rj-7",
        "colab_type": "text"
      },
      "cell_type": "markdown",
      "source": [
        "\n",
        "## Exploring the data\n",
        "\n",
        "Let's download  Fashion MNIST data and examine the shape. Take note of the numbers you will get. You will use them throughout this notebook.\n"
      ]
    },
    {
      "metadata": {
        "id": "NGHnWlxJRj-8",
        "colab_type": "code",
        "colab": {}
      },
      "cell_type": "code",
      "source": [
        "#The copyright for Fashion-MNIST is held by Zalando SE.\n",
        "#Fashion-MNIST is licensed under the MIT License.\n",
        "#You can learn more about the Fashion-MNIST dataset  \n",
        "#from https://github.com/zalandoresearch/fashion-mnist\n",
        "(train_images, train_labels), (test_images, test_labels) = tf.keras.datasets.fashion_mnist.load_data()\n",
        "print(\"Done\")"
      ],
      "execution_count": 0,
      "outputs": []
    },
    {
      "metadata": {
        "id": "giUWzKwQRj-_",
        "colab_type": "code",
        "colab": {}
      },
      "cell_type": "code",
      "source": [
        "#Convert the dataset into the format needed for the classifier\n",
        "train_images = train_images.astype('float32')\n",
        "test_images = test_images.astype('float32')\n",
        "train_labels = train_labels.astype('int32')\n",
        "test_labels = test_labels.astype('int32')\n",
        "\n",
        "print(\"Training examples dataset\")\n",
        "print(train_images.shape)\n",
        "print(train_labels.shape)\n",
        "print(\"Test examples dataset\")\n",
        "print(test_images.shape)\n",
        "print(test_labels.shape)"
      ],
      "execution_count": 0,
      "outputs": []
    },
    {
      "metadata": {
        "id": "0TZ63b5eRj_D",
        "colab_type": "code",
        "colab": {}
      },
      "cell_type": "code",
      "source": [
        "HEIGHT=28\n",
        "WIDTH=28\n",
        "NCLASSES=10\n",
        "IMGNO=12\n",
        "\n",
        "#Take a look at a sample image from the dataset\n",
        "import matplotlib.pyplot as plt\n",
        "plt.imshow(train_images[IMGNO].reshape(HEIGHT, WIDTH));"
      ],
      "execution_count": 0,
      "outputs": []
    },
    {
      "metadata": {
        "id": "I_4pQPrYRj_F",
        "colab_type": "code",
        "colab": {}
      },
      "cell_type": "code",
      "source": [
        "tf.logging.set_verbosity(tf.logging.INFO)\n",
        "\n",
        "#define a training input function\n",
        "train_input_fn = tf.estimator.inputs.numpy_input_fn(\n",
        "    x={'image': train_images},\n",
        "    y=train_labels,\n",
        "    num_epochs=None,  \n",
        "    shuffle=True,  \n",
        "    batch_size=600,\n",
        "    queue_capacity=6000\n",
        "  )\n",
        "\n",
        "#define an input function for evaluation of the accuracy metric using a test dataset\n",
        "test_input_fn = tf.estimator.inputs.numpy_input_fn(\n",
        "    x={'image': test_images},\n",
        "    y=test_labels,\n",
        "    num_epochs=1,\n",
        "    shuffle=False,\n",
        "    queue_capacity=6000\n",
        "  )\n",
        "\n",
        "#specify a Deep Neural Network based classifier using 3 hidden layers, \n",
        "#100 neurons in each layer, and classifying the input into 1 of 10 classes. \n",
        "model = tf.estimator.DNNClassifier(\n",
        "  feature_columns=[tf.feature_column.numeric_column('image', shape=[HEIGHT, WIDTH])],\n",
        "  hidden_units=[100, 100, 100],\n",
        "  n_classes = NCLASSES,\n",
        "#save the model to the specified directory\n",
        "  model_dir = './model_trained/dnn'\n",
        ")"
      ],
      "execution_count": 0,
      "outputs": []
    },
    {
      "metadata": {
        "id": "ZD-Cu5QiRj_J",
        "colab_type": "text"
      },
      "cell_type": "markdown",
      "source": [
        "## Check your understanding\n",
        "\n",
        "Go ahead and run the next code cell to begin training, and then return back to answer the following question:\n",
        "\n",
        "\n",
        "\n",
        "**Quiz:** Notice that the <code>train_input_fn</code> method sets the <code>num_epochs</code> parameter, i.e. the number of epochs for training to be <code>None</code>. This means that the duration of training depends on the number of steps. Recall that earlier in this notebook you learned that the shape of the training dataset is 60000x28x28 meaning that there are 60000 training examples. If the number of training steps is set to be 1000 when training the model, and the train_input_fn uses a batch size of 600, how many epochs of training does the deep neural net get?"
      ]
    },
    {
      "metadata": {
        "codeCollapsed": false,
        "id": "8EigKNvQRj_K",
        "colab_type": "code",
        "colab": {}
      },
      "cell_type": "code",
      "source": [
        "#Train the model\n",
        "model.train(input_fn = train_input_fn, steps = 1000)\n",
        "\n",
        "#Evaluate accuracy of the trained model\n",
        "accuracy_score = model.evaluate(input_fn=test_input_fn)[\"accuracy\"]"
      ],
      "execution_count": 0,
      "outputs": []
    },
    {
      "metadata": {
        "id": "9PmJz6ypRj_N",
        "colab_type": "text"
      },
      "cell_type": "markdown",
      "source": [
        "## DO NOT PROCEED UNTIL YOU CAN SEE THE ACCURACY SCORE\n",
        "\n",
        "If the training finished successfully, you should see an output above similar to the following:\n",
        "\n",
        "<pre>\n",
        "INFO:tensorflow:Done running local_init_op.\n",
        "INFO:tensorflow:Finished evaluation at ...\n",
        "INFO:tensorflow:Saving dict for global step 1000: accuracy = ..., average_loss = ..., global_step = ..., loss = ...\n",
        "INFO:tensorflow:Saving 'checkpoint_path' summary for global step 1000: ./model_trained/dnn/model.ckpt-1000\n",
        "</pre>\n",
        "\n",
        "Due to random seeds, your accuracy may vary. In the upcoming labs you will see methods to improve the performance of your image classifier. \n"
      ]
    },
    {
      "metadata": {
        "id": "LuY-C8EMRj_O",
        "colab_type": "text"
      },
      "cell_type": "markdown",
      "source": [
        "## Monitoring training with TensorBoard\n",
        "\n",
        "Execute the next cell to start the TensorBoard process, then use the link from the output to open TensorBoard UI in a new tab."
      ]
    },
    {
      "metadata": {
        "id": "6JvIuWvZey09",
        "colab_type": "code",
        "colab": {}
      },
      "cell_type": "code",
      "source": [
        "!npm install -g localtunnel\n",
        "start_tensorboard('./model_trained/dnn', 'url')"
      ],
      "execution_count": 0,
      "outputs": []
    },
    {
      "metadata": {
        "id": "idac6vzB6RXV",
        "colab_type": "code",
        "colab": {}
      },
      "cell_type": "code",
      "source": [
        "%sx read -p 'Press Enter in the input box to stop TensorBoard '\n",
        "stop_tensorboard('url')\n",
        "print(\"Stopped\")"
      ],
      "execution_count": 0,
      "outputs": []
    },
    {
      "metadata": {
        "id": "ln8abYGfRj_T",
        "colab_type": "text"
      },
      "cell_type": "markdown",
      "source": [
        "<pre>\n",
        "# Copyright 2017 Google Inc. All Rights Reserved.\n",
        "#\n",
        "# Licensed under the Apache License, Version 2.0 (the \"License\");\n",
        "# you may not use this file except in compliance with the License.\n",
        "# You may obtain a copy of the License at\n",
        "#\n",
        "#      http://www.apache.org/licenses/LICENSE-2.0\n",
        "#\n",
        "# Unless required by applicable law or agreed to in writing, software\n",
        "# distributed under the License is distributed on an \"AS IS\" BASIS,\n",
        "# WITHOUT WARRANTIES OR CONDITIONS OF ANY KIND, either express or implied.\n",
        "# See the License for the specific language governing permissions and\n",
        "# limitations under the License.\n",
        "</pre>"
      ]
    }
  ]
}