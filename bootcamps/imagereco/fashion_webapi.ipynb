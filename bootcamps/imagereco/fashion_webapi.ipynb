{
  "nbformat": 4,
  "nbformat_minor": 0,
  "metadata": {
    "colab": {
      "name": "fashion_webapi.ipynb",
      "version": "0.3.2",
      "provenance": [],
      "private_outputs": true,
      "collapsed_sections": []
    },
    "kernelspec": {
      "name": "python2",
      "display_name": "Python 2"
    },
    "accelerator": "GPU"
  },
  "cells": [
    {
      "metadata": {
        "id": "vEeJQT4RLvQS",
        "colab_type": "text"
      },
      "cell_type": "markdown",
      "source": [
        "# A Scalable and Responsive API for Fashion MNIST Image Classification with Cloud ML Engine\n",
        "\n",
        "In an earlier notebook you trained a convolutional neural network model for image classification and saved it to Google Cloud Storage (GCS). In this notebook, you will deploy the trained model as an Application Programming Interface (API or a web service) for online predictions."
      ]
    },
    {
      "metadata": {
        "id": "9fr0-m0OLvQU",
        "colab_type": "code",
        "cellView": "form",
        "colab": {}
      },
      "cell_type": "code",
      "source": [
        "import os\n",
        "#@markdown Enter  your GCP Project ID:\n",
        "PROJECT = \"\" #@param {type: \"string\"}\n",
        "#@markdown Enter  your GCP Storage Bucket ID:\n",
        "BUCKET = \"\" #@param {type: \"string\"}\n",
        "#@markdown OPTIONAL: Replace with your GCP Storage Bucket Region:\n",
        "REGION = \"us-central1\" #@param {type:\"string\"}\n",
        "\n",
        "MODEL_TYPE='cnn'       # convolutional neural network\n",
        "\n",
        "# do not change these\n",
        "os.environ['PROJECT'] = PROJECT\n",
        "os.environ['BUCKET'] = BUCKET\n",
        "os.environ['REGION'] = REGION\n",
        "os.environ['MODEL_TYPE'] = MODEL_TYPE\n",
        "os.environ['TFVERSION'] = '1.10'  # Tensorflow version\n",
        "\n",
        "def start_tensorboard(logdir, url_file):\n",
        "  get_ipython().system_raw('tensorboard --logdir {} --host 0.0.0.0 --port 6006 &'.format(logdir))\n",
        "  get_ipython().system_raw('lt --port 6006 >> {} 2>&1 &'.format(url_file))\n",
        "  get_ipython().system('cat {}'.format(url_file))\n",
        "\n",
        "def stop_tensorboard(url_file):\n",
        "  get_ipython().system_raw(\"ps -Af  | grep -E 'tensorboard|lt --port' | awk '{print $2}' | xargs -I % kill -9 %\")\n",
        "  get_ipython().system_raw(\"rm {}\".format(url_file))\n",
        "  \n",
        "from google.colab import auth\n",
        "auth.authenticate_user()  "
      ],
      "execution_count": 0,
      "outputs": []
    },
    {
      "metadata": {
        "id": "pnvI4YTaLvQX",
        "colab_type": "code",
        "colab": {}
      },
      "cell_type": "code",
      "source": [
        "%%bash\n",
        "gcloud config set project $PROJECT\n",
        "gcloud config set compute/region $REGION"
      ],
      "execution_count": 0,
      "outputs": []
    },
    {
      "metadata": {
        "id": "ei4KEilhLvQ2",
        "colab_type": "text"
      },
      "cell_type": "markdown",
      "source": [
        "## Deploying and predicting with model\n",
        "\n",
        "Deploy the model:"
      ]
    },
    {
      "metadata": {
        "id": "vGRo3TZGLvQ3",
        "colab_type": "code",
        "colab": {}
      },
      "cell_type": "code",
      "source": [
        "%%bash\n",
        "MODEL_NAME=\"fashion\"\n",
        "MODEL_VERSION=${MODEL_TYPE}\n",
        "MODEL_LOCATION=$(gsutil ls gs://${BUCKET}/fashion/trained_${MODEL_TYPE}/export/exporter | tail -1)\n",
        "echo \"Deleting and deploying $MODEL_NAME $MODEL_VERSION from $MODEL_LOCATION ... this will take a few minutes\"\n",
        "#gcloud ml-engine versions delete ${MODEL_VERSION} --model ${MODEL_NAME}\n",
        "#gcloud ml-engine models delete ${MODEL_NAME}\n",
        "gcloud ml-engine models create ${MODEL_NAME} --regions $REGION\n",
        "gcloud ml-engine versions create ${MODEL_VERSION} --model ${MODEL_NAME} --origin ${MODEL_LOCATION} --runtime-version=$TFVERSION"
      ],
      "execution_count": 0,
      "outputs": []
    },
    {
      "metadata": {
        "id": "Ytw8cIAaLvQ5",
        "colab_type": "text"
      },
      "cell_type": "markdown",
      "source": [
        "The previous step of deploying the model can take a few minutes. If it is successful, you should see an output similar to this one:\n",
        "\n",
        "<pre>\n",
        "Created ml engine model [projects/qwiklabs-gcp-27eb45524d98e9a5/models/fashion].\n",
        "Creating version (this might take a few minutes)......\n",
        "...................................................................................................................done.\n",
        "</pre>\n",
        "\n",
        "Next, download a local copy of the Fashion MNIST dataset to use with Cloud ML Engine for predictions."
      ]
    },
    {
      "metadata": {
        "id": "mHsu4MsNLvQ6",
        "colab_type": "code",
        "colab": {}
      },
      "cell_type": "code",
      "source": [
        "import tensorflow as tf\n",
        "(train_images, train_labels), (test_images, test_labels) = tf.keras.datasets.fashion_mnist.load_data()\n",
        "LABELS = ['T-shirt/top', 'Trouser', 'Pullover', 'Dress', 'Coat', 'Sandal', 'Shirt', 'Sneaker', 'Bag', 'Ankle boot']"
      ],
      "execution_count": 0,
      "outputs": []
    },
    {
      "metadata": {
        "id": "D87SKQntLvQ8",
        "colab_type": "text"
      },
      "cell_type": "markdown",
      "source": [
        "To predict with the model, save one of the test images as a JavaScript Object Notation (JSON) file. Also, take a look at it as a graphic and notice the expected class value in the title."
      ]
    },
    {
      "metadata": {
        "id": "KvZAlAQpLvQ-",
        "colab_type": "code",
        "colab": {}
      },
      "cell_type": "code",
      "source": [
        "HEIGHT=28\n",
        "WIDTH=28\n",
        "\n",
        "IMGNO=12 #CHANGE THIS to get different images\n",
        "\n",
        "#Convert raw image data to a test.json file and persist it to disk\n",
        "import json, codecs\n",
        "jsondata = {'image': test_images[IMGNO].reshape(HEIGHT, WIDTH).tolist()}\n",
        "json.dump(jsondata, codecs.open('test.json', 'w', encoding='utf-8'))\n",
        "\n",
        "#Take a look at a sample image and the correct label from the test dataset\n",
        "import matplotlib.pyplot as plt\n",
        "plt.imshow(test_images[IMGNO].reshape(HEIGHT, WIDTH))\n",
        "title = plt.title('{} / Class #{}'.format(LABELS[test_labels[IMGNO]], test_labels[IMGNO]))"
      ],
      "execution_count": 0,
      "outputs": []
    },
    {
      "metadata": {
        "id": "SogZ_AoRLvRA",
        "colab_type": "text"
      },
      "cell_type": "markdown",
      "source": [
        "Here's how the same image looks when it saved in the test.json file for use with the prediction API."
      ]
    },
    {
      "metadata": {
        "id": "i_vFD1C7LvRB",
        "colab_type": "code",
        "colab": {}
      },
      "cell_type": "code",
      "source": [
        "!cat test.json"
      ],
      "execution_count": 0,
      "outputs": []
    },
    {
      "metadata": {
        "id": "Y9Xustj6LvRH",
        "colab_type": "text"
      },
      "cell_type": "markdown",
      "source": [
        "Send the file to the prediction service and check whether the model you trained returns the correct prediction."
      ]
    },
    {
      "metadata": {
        "id": "JHRNkMkZLvRI",
        "colab_type": "code",
        "colab": {}
      },
      "cell_type": "code",
      "source": [
        "!gcloud ml-engine predict \\\n",
        "   --model=fashion \\\n",
        "   --version=${MODEL_TYPE} \\\n",
        "   --json-instances=./test.json"
      ],
      "execution_count": 0,
      "outputs": []
    },
    {
      "metadata": {
        "id": "56QK7U9aLvRL",
        "colab_type": "text"
      },
      "cell_type": "markdown",
      "source": [
        "Here is what my prediction service returned based on a model that I trained with Cloud ML Engine. Notice that the model predicts a probability of roughly 0.87 for the sneaker (class #7).\n",
        "\n",
        "<pre>\n",
        "CLASSES  PROBABILITIES\n",
        "7        [2.627301398661075e-08, 1.843199037843135e-09, 6.106044111220399e-06, 5.581538289334276e-07, 9.015485602503759e-08, 0.09837665408849716, 3.8953788816797896e-07, 0.8761420249938965, 0.0034074552822858095, 0.02206665836274624]\n",
        "</pre>"
      ]
    },
    {
      "metadata": {
        "id": "Ik-w03A6LvRM",
        "colab_type": "text"
      },
      "cell_type": "markdown",
      "source": [
        "<pre>\n",
        "# Copyright 2017 Google Inc. All Rights Reserved.\n",
        "#\n",
        "# Licensed under the Apache License, Version 2.0 (the \"License\");\n",
        "# you may not use this file except in compliance with the License.\n",
        "# You may obtain a copy of the License at\n",
        "#\n",
        "#      http://www.apache.org/licenses/LICENSE-2.0\n",
        "#\n",
        "# Unless required by applicable law or agreed to in writing, software\n",
        "# distributed under the License is distributed on an \"AS IS\" BASIS,\n",
        "# WITHOUT WARRANTIES OR CONDITIONS OF ANY KIND, either express or implied.\n",
        "# See the License for the specific language governing permissions and\n",
        "# limitations under the License.\n",
        "</pre>"
      ]
    }
  ]
}